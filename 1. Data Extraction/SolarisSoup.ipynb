{
 "cells": [
  {
   "cell_type": "code",
   "execution_count": 8,
   "metadata": {},
   "outputs": [],
   "source": [
    "import urllib\n",
    "from urllib.request import urlopen, urlretrieve\n",
    "from bs4 import BeautifulSoup\n",
    "import regex as re\n",
    "from tqdm.notebook import tqdm\n",
    "import os\n",
    "\n",
    "'''\n",
    "    ['0', 'Отзывы', 'f=154', 'HYUNDAI SOLARIS'],\n",
    "    ['1', 'Двигатель', 'f=137', 'HYUNDAI SOLARIS'],\n",
    "    ['2', 'Трансмиссия', 'f=143', 'HYUNDAI SOLARIS'],\n",
    "    ['3', 'Ходовая', 'f=120', 'HYUNDAI SOLARIS'],\n",
    "    ['4', 'Колеса', 'f=149', 'HYUNDAI SOLARIS'],\n",
    "    ['5', 'Электрооборудование', 'f=140', 'HYUNDAI SOLARIS'],\n",
    "    ['6', 'Мультимедиа', 'f=142', 'HYUNDAI SOLARIS'],\n",
    "    ['7', 'Кузов', 'f=148', 'HYUNDAI SOLARIS'],\n",
    "    ['8', 'Жидкости', '', 'HYUNDAI SOLARIS'],\n",
    "    ['9', 'Сервис', 'f=19', 'HYUNDAI SOLARIS'],\n",
    "    ['10', 'Эксплуатация', '', 'HYUNDAI SOLARIS']\n",
    "\n",
    "    ['12', 'Кузов-Отопление', 'f=146', 'HYUNDAI SOLARIS'],\n",
    "    ['13', 'Кузов-Охлаждение', 'f=147', 'HYUNDAI SOLARIS']    \n",
    "'''\n",
    "\n",
    "site = 'https://solaris-club.net/forum/'\n",
    "folder_names = [\n",
    "    ['11', 'Тюнинг', 'f=145', 'HYUNDAI SOLARIS']\n",
    "]"
   ]
  },
  {
   "cell_type": "markdown",
   "metadata": {},
   "source": [
    "На странице раздела у нас две задачи:  \n",
    "1. Найти и сохранить все ссылки на темы\n",
    "2. Найти ссылку на следующую страницу раздела или убедиться, что это последняя страница раздела."
   ]
  },
  {
   "cell_type": "code",
   "execution_count": 2,
   "metadata": {},
   "outputs": [],
   "source": [
    "def collect_themes(site, folder):\n",
    "    \n",
    "    site_address = site + 'forumdisplay.php?' + folder\n",
    "    themes = []\n",
    "    flag = True\n",
    "\n",
    "    while flag:\n",
    "    \n",
    "        resp = urlopen(site_address) # скачиваем файл\n",
    "        html = resp.read().decode('utf-8') # считываем содержимое\n",
    "        soup = BeautifulSoup(html, 'html.parser') # делаем суп\n",
    "    \n",
    "        flag = False\n",
    "        for link in soup.find_all('a'):\n",
    "            if link.has_attr('href') and link.has_attr('id'):\n",
    "                if re.search('thread_title_', str(link.get('id'))):\n",
    "                    s = link.get('href')\n",
    "                    s = site + 'showthread.php?' + re.search('t=[0-9]+', s)[0]\n",
    "                    themes.append([link.get_text(), s])\n",
    "            if not flag and link.has_attr('href') and link.has_attr('rel'):\n",
    "                if link.get('rel')[0] == 'next':\n",
    "                    flag = True\n",
    "                    s = link.get('href')\n",
    "                    site_address = site + 'forumdisplay.php?' + re.search(folder + '[\\S]+', s)[0]\n",
    "    return themes"
   ]
  },
  {
   "cell_type": "markdown",
   "metadata": {},
   "source": [
    "На странице темы у нас три задачи:  \n",
    "1. Понять, что являеся шапкой темы (это сообщение #1), прочитать ее только один раз - НЕ СДЕЛАНО\n",
    "2. Прочитать и сохранить все сообщения (кроме шапки) на странице темы\n",
    "3. Найти ссылку на следующую страницу темы или убедиться, что это последняя страница темы."
   ]
  },
  {
   "cell_type": "code",
   "execution_count": 3,
   "metadata": {},
   "outputs": [],
   "source": [
    "def collect_messages(site, themes):\n",
    "\n",
    "    messages = []\n",
    "    for theme in tqdm(themes):\n",
    "        \n",
    "        print(theme[0])\n",
    "        theme_address = theme[1]\n",
    "        thread = re.search('t=[0-9]+', theme_address)[0]\n",
    "        flag = True\n",
    "        theme_messages = []\n",
    "        post_data = {}\n",
    "\n",
    "        while flag:\n",
    "            resp = urlopen(theme_address) # скачиваем файл\n",
    "            html = resp.read().decode('utf-8', errors='ignore') # считываем содержимое\n",
    "            soup = BeautifulSoup(html, 'html.parser') # делаем суп\n",
    "            #Собираем сами сообщения\n",
    "            divs = soup.find_all('div')\n",
    "            for div in divs:\n",
    "                if div.has_attr('id') and re.search('(postmenu_)([0-9]+)(_menu)', div['id']):\n",
    "                    continue\n",
    "                if div.has_attr('id') and re.search('postmenu_', div['id']):\n",
    "                    author = div.find('a')\n",
    "                    if author != None:\n",
    "                        author_id = re.search('u=[0-9]+', author['href'])[0]\n",
    "                        author_nickname = author.get_text()\n",
    "                    else:\n",
    "                        author_id = div.get_text().strip()\n",
    "                        author_nickname = 'Guest'\n",
    "                    post_data[re.sub('postmenu_', '', div['id'])] = [author_id, author_nickname]\n",
    "                if div.has_attr('id') and re.search('post_message_', div['id']):\n",
    "                    message_id = re.sub('post_message_', '', div['id'])\n",
    "                    if message_id in post_data:\n",
    "                        author = post_data[message_id][1]\n",
    "                    else:\n",
    "                        author = ''\n",
    "                    for item in div.children:\n",
    "                        if item.name == 'div':\n",
    "                            if item.has_attr('class') and item['class'][0] == 'smallfont':\n",
    "                                post_date = item.get_text().strip()\n",
    "                            item.clear()\n",
    "                    s = re.sub('[\\']+', '`', div.get_text())\n",
    "                    s = '\\'' + re.sub('[\\s]+', ' ', s).strip() + '\\''\n",
    "                    if len(s) > 2:\n",
    "                        theme_messages.append([post_date, author, s])\n",
    "            # В отдельном цикле ищем ссылку на следующую страницу темы (это 'a' с атрибутом 'rel', равным 'next')\n",
    "            # Если ссылка найдена, \n",
    "            flag = False \n",
    "            for link in soup.find_all('a'):\n",
    "                if not flag and link.has_attr('href') and link.has_attr('rel'):\n",
    "                    if link.get('rel')[0] == 'next':\n",
    "                        flag = True\n",
    "                        s = link.get('href')\n",
    "                        theme_address = site + 'showthread.php?' + re.search(thread + '[\\S]+', s)[0]\n",
    "        messages.append(['\\''+ theme[0] + '\\'', theme_messages])\n",
    "        \n",
    "    return messages"
   ]
  },
  {
   "cell_type": "code",
   "execution_count": 4,
   "metadata": {},
   "outputs": [],
   "source": [
    "def save_messages(messages, folder_name):\n",
    "    f_name = os.path.join(folder_name[3], folder_name[3] + '_' + folder_name[0] + '_' + folder_name[1] + '.csv')\n",
    "    with open(f_name, 'w', encoding='utf-8') as ouf:\n",
    "        ouf.write('Code,Folder,Theme,Date,Time,Author,Message\\n')\n",
    "        for message in messages:\n",
    "            header = folder_name[:2] + [message[0]]\n",
    "            for item in message[1]:\n",
    "                ouf.write(','.join(header + item))\n",
    "                ouf.write('\\n')"
   ]
  },
  {
   "cell_type": "code",
   "execution_count": 5,
   "metadata": {},
   "outputs": [],
   "source": [
    "def scraper(site, folder_names):\n",
    "    for folder_name in folder_names:\n",
    "        if len(folder_name[2]) > 0:\n",
    "            folder = folder_name[2]\n",
    "            current_themes = collect_themes(site, folder)\n",
    "            current_messages = collect_messages(site, current_themes)\n",
    "            save_messages(current_messages, folder_name)\n",
    "    print('Information collected')"
   ]
  },
  {
   "cell_type": "code",
   "execution_count": 6,
   "metadata": {
    "scrolled": true
   },
   "outputs": [],
   "source": [
    "%load_ext ipytelegram\n",
    "%reload_ext ipytelegram\n",
    "import telepot\n",
    "bot = telepot.Bot('1301715666:AAGBzLlVDZI7KzGZ_DNyukjauVeTt0QpO-A')\n",
    "response = bot.getUpdates()\n",
    "%telegram_setup 1301715666:AAGBzLlVDZI7KzGZ_DNyukjauVeTt0QpO-A 1305740495"
   ]
  },
  {
   "cell_type": "code",
   "execution_count": 9,
   "metadata": {
    "scrolled": true
   },
   "outputs": [
    {
     "data": {
      "application/vnd.jupyter.widget-view+json": {
       "model_id": "73bf43d535c9467a98f76b69e9f73f8d",
       "version_major": 2,
       "version_minor": 0
      },
      "text/plain": [
       "HBox(children=(HTML(value=''), FloatProgress(value=0.0, max=46.0), HTML(value='')))"
      ]
     },
     "metadata": {},
     "output_type": "display_data"
    },
    {
     "name": "stdout",
     "output_type": "stream",
     "text": [
      "Каталог запчастей Hyundai Solaris 2017-2020\n",
      "Сетка в бампер\n",
      "Накладки на пороги\n",
      "Чип-тюнинг\n",
      "Органайзер в багажник, замена докатки на полноразмерное колесо\n",
      "Подсветка Бардачка\n",
      "Спойлер на багажник\n",
      "Заменить бампер от другого рестайлинга\n",
      "Фаркоп\n",
      "Защита картера\n",
      "Включение радиоканала ключа при заведеном авто\n",
      "LED в задний бампер\n",
      "Тюнинг-комплект QUANT на Солярис 2\n",
      "Solaris 2020 выбор нового ГУ на android\n",
      "Включение подогрева руля при Автозапуске и блокировка двигателя под капотом\n",
      "Доп. установка штатного парктроника\n",
      "Доустановить подушки безопасности: боковые, шторки\n",
      "Подключение видеорегистратора.\n",
      "Брызговики увеличенного размера 2017+\n",
      "Нештатный подлокотник\n",
      "Апгрэйд Соляриса\n",
      "Каталог запчастей Hyundai Solaris 2017-2020\n",
      "Недоложили гаечный ключ\n",
      "Дополнительный свет\n",
      "Установка багажника на крышу (седан)\n",
      "Коврики для Solaris 2017\n",
      "Дефлекторы на окна\n",
      "Хромированные накладки на ДХО\n",
      "Уплотнительное кольцо для парктроника\n",
      "Круговой обзор\n",
      "Взаимозаменяемость запчастей Солярис 1 - Solaris 2\n",
      "Установка предпускового подогревателя\n",
      "Сетка в бампер для защиты радиатора\n",
      "Штатная камера с кнопкой багажника на Актив\n",
      "Радар-детектор в новую солярку\n",
      "Дополнительное оборудование Hyundai Solaris 2017-2020\n",
      "Выкидной ключ/брелок на Актив\n",
      "камера заднего вида\n",
      "Рейлинги\n",
      "переходник  iso  солярис 2017\n",
      "Передний парктроник + камера заднего вида\n",
      "Isofix на передние кресло.\n",
      "Каталог запчастей Hyundai Solaris 2017-2020\n",
      "Молдинг стекла\n",
      "Блокиратор рулевого вала\n",
      "Посоветуйте парктроник для новичка\n",
      "\n",
      "Information collected\n"
     ]
    },
    {
     "data": {
      "text/plain": [
       "'Information collected'"
      ]
     },
     "execution_count": 9,
     "metadata": {},
     "output_type": "execute_result"
    }
   ],
   "source": [
    "%%telegram_send Next message\n",
    "scraper(site, folder_names)\n",
    "'Information collected'"
   ]
  },
  {
   "cell_type": "code",
   "execution_count": null,
   "metadata": {},
   "outputs": [],
   "source": [
    "import pandas as pd\n",
    "mess = pd.read_csv('./LADA VESTA/LADA VESTA_10_Эксплуатация.csv', quotechar=\"'\")\n",
    "mess"
   ]
  },
  {
   "cell_type": "code",
   "execution_count": null,
   "metadata": {},
   "outputs": [],
   "source": [
    "folder_names = [['11', 'Тюнинг', 'f=145', 'HYUNDAI SOLARIS']]\n",
    "folder = folder_names[0][2]\n",
    "current_themes = collect_themes(site, folder)\n",
    "    for folder_name in folder_names:\n",
    "        if len(folder_name[2]) > 0:\n",
    "            folder = folder_name[2]\n",
    "            current_themes = collect_themes(site, folder)\n",
    "            current_messages = collect_messages(site, current_themes)\n",
    "            save_messages(current_messages, folder_name)"
   ]
  },
  {
   "cell_type": "code",
   "execution_count": null,
   "metadata": {},
   "outputs": [],
   "source": []
  }
 ],
 "metadata": {
  "kernelspec": {
   "display_name": "Python 3",
   "language": "python",
   "name": "python3"
  },
  "language_info": {
   "codemirror_mode": {
    "name": "ipython",
    "version": 3
   },
   "file_extension": ".py",
   "mimetype": "text/x-python",
   "name": "python",
   "nbconvert_exporter": "python",
   "pygments_lexer": "ipython3",
   "version": "3.8.5"
  }
 },
 "nbformat": 4,
 "nbformat_minor": 4
}
