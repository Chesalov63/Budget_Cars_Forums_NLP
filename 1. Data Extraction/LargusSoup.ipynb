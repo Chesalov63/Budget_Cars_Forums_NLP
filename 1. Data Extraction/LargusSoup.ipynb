{
 "cells": [
  {
   "cell_type": "code",
   "execution_count": 12,
   "metadata": {},
   "outputs": [],
   "source": [
    "import urllib\n",
    "from urllib.request import urlopen, urlretrieve\n",
    "from bs4 import BeautifulSoup\n",
    "import regex as re\n",
    "from tqdm.notebook import tqdm\n",
    "import os\n",
    "\n",
    "'''\n",
    "    ['0', 'Отзывы', 'f=25', 'LADA LARGUS'],\n",
    "    ['1', 'Двигатель', 'f=17', 'LADA LARGUS'],\n",
    "    ['2', 'Трансмиссия', 'f=18', 'LADA LARGUS'],\n",
    "    ['3', 'Ходовая', 'f=19', 'LADA LARGUS'],\n",
    "    ['4', 'Колеса', '', 'LADA LARGUS'],\n",
    "    ['5', 'Электрооборудование', 'f=16', 'LADA LARGUS'],\n",
    "    ['6', 'Мультимедиа', '', 'LADA LARGUS'],\n",
    "    ['7', 'Кузов', 'f=20', 'LADA LARGUS'],\n",
    "    ['8', 'Жидкости', 'f=21', 'LADA LARGUS'],\n",
    "    ['9', 'Сервис', 'f=14', 'LADA LARGUS'],\n",
    "    ['10', 'Эксплуатация', 'f=15', 'LADA LARGUS'],\n",
    "    ['11', 'Тюнинг', 'f=22', 'LADA LARGUS']\n",
    "'''\n",
    "\n",
    "site = 'http://forum.ladalargus.net/'\n",
    "folder_names = [\n",
    "    ['0', 'Отзывы', 'f=25', 'LADA LARGUS'],\n",
    "    ['1', 'Двигатель', 'f=17', 'LADA LARGUS'],\n",
    "    ['2', 'Трансмиссия', 'f=18', 'LADA LARGUS'],\n",
    "    ['3', 'Ходовая', 'f=19', 'LADA LARGUS'],\n",
    "    ['4', 'Колеса', '', 'LADA LARGUS'],\n",
    "    ['5', 'Электрооборудование', 'f=16', 'LADA LARGUS'],\n",
    "    ['6', 'Мультимедиа', '', 'LADA LARGUS'],\n",
    "    ['7', 'Кузов', 'f=20', 'LADA LARGUS'],\n",
    "    ['8', 'Жидкости', 'f=21', 'LADA LARGUS'],\n",
    "    ['9', 'Сервис', 'f=14', 'LADA LARGUS'],\n",
    "    ['10', 'Эксплуатация', 'f=15', 'LADA LARGUS'],\n",
    "    ['11', 'Тюнинг', 'f=22', 'LADA LARGUS']\n",
    "]"
   ]
  },
  {
   "cell_type": "markdown",
   "metadata": {},
   "source": [
    "На странице раздела у нас две задачи:  \n",
    "1. Найти и сохранить все ссылки на темы\n",
    "2. Найти ссылку на следующую страницу раздела или убедиться, что это последняя страница раздела."
   ]
  },
  {
   "cell_type": "code",
   "execution_count": 5,
   "metadata": {},
   "outputs": [],
   "source": [
    "def collect_themes(site, folder):\n",
    "    \n",
    "    site_address = site + 'forumdisplay.php?' + folder\n",
    "    themes = []\n",
    "    flag = True\n",
    "\n",
    "    while flag:\n",
    "    \n",
    "        resp = urlopen(site_address) # скачиваем файл\n",
    "        html = resp.read().decode('utf-8') # считываем содержимое\n",
    "        soup = BeautifulSoup(html, 'html.parser') # делаем суп\n",
    "    \n",
    "        flag = False\n",
    "        for link in soup.find_all('a'):\n",
    "            if link.has_attr('href') and link.has_attr('id'):\n",
    "                if re.search('thread_title_', str(link.get('id'))):\n",
    "                    s = link.get('href')\n",
    "                    s = site + 'showthread.php?' + re.search('t=[0-9]+', s)[0]\n",
    "                    themes.append([link.get_text(), s])\n",
    "            if not flag and link.has_attr('href') and link.has_attr('rel'):\n",
    "                if link.get('rel')[0] == 'next':\n",
    "                    flag = True\n",
    "                    s = link.get('href')\n",
    "                    site_address = site + 'forumdisplay.php?' + re.search(folder + '[\\S]+', s)[0]\n",
    "    return themes"
   ]
  },
  {
   "cell_type": "markdown",
   "metadata": {},
   "source": [
    "На странице темы у нас три задачи:  \n",
    "1. Понять, что являеся шапкой темы (это сообщение #1), прочитать ее только один раз - НЕ СДЕЛАНО\n",
    "2. Прочитать и сохранить все сообщения (кроме шапки) на странице темы\n",
    "3. Найти ссылку на следующую страницу темы или убедиться, что это последняя страница темы."
   ]
  },
  {
   "cell_type": "code",
   "execution_count": 6,
   "metadata": {},
   "outputs": [],
   "source": [
    "def collect_messages(site, themes):\n",
    "\n",
    "    messages = []\n",
    "    for theme in tqdm(themes):\n",
    "        \n",
    "        print(theme[0])\n",
    "        theme_address = theme[1]\n",
    "        thread = re.search('t=[0-9]+', theme_address)[0]\n",
    "        flag = True\n",
    "        theme_messages = []\n",
    "        post_data = {}\n",
    "        \n",
    "        while flag:\n",
    "            resp = urlopen(theme_address) # скачиваем файл\n",
    "            html = resp.read().decode('utf-8', errors='ignore') # считываем содержимое\n",
    "            soup = BeautifulSoup(html, 'html.parser') # делаем суп\n",
    "            #Собираем некоторые метаданные сообщений на текущей странице\n",
    "            tables = soup.find_all('table')\n",
    "            for next_table in tables:\n",
    "                if next_table.has_attr('id') and re.search('post[0-9]+', next_table['id']):\n",
    "                    post_column = next_table.find('td')\n",
    "                    post_date = post_column.get_text().strip()\n",
    "                    post_data[re.sub('post', '', next_table['id'])] = [post_date]\n",
    "            #Собираем сами сообщения\n",
    "            divs = soup.find_all('div')\n",
    "            for div in divs:\n",
    "                if div.has_attr('id') and re.search('(postmenu_)([0-9]+)(_menu)', div['id']):\n",
    "                    continue\n",
    "                if div.has_attr('id') and re.search('postmenu_', div['id']):\n",
    "                    author = div.find('a')\n",
    "                    if author != None:\n",
    "                        author_id = re.search('u=[0-9]+', author['href'])[0]\n",
    "                        author_nickname = author.get_text()\n",
    "                    else:\n",
    "                        author_id = div.get_text().strip()\n",
    "                        author_nickname = 'Guest'\n",
    "                    post_data[re.sub('postmenu_', '', div['id'])].append([author_id, author_nickname])\n",
    "                if div.has_attr('id') and re.search('post_message_', div['id']):\n",
    "                    message_id = re.sub('post_message_', '', div['id'])\n",
    "                    if message_id in post_data:\n",
    "                        post_date = post_data[message_id][0]\n",
    "                        author = post_data[message_id][1][1]\n",
    "                    else:\n",
    "                        post_date = ''\n",
    "                        author = ''\n",
    "                    for item in div.children:\n",
    "                        if item.name == 'div':\n",
    "                            item.clear()\n",
    "                    s = re.sub('[\\']+', '`', div.get_text())\n",
    "                    s = '\\'' + re.sub('[\\s]+', ' ', s).strip() + '\\''\n",
    "                    if len(s) > 2:\n",
    "                        theme_messages.append([post_date, author, s])\n",
    "            # В отдельном цикле ищем ссылку на следующую страницу темы (это 'a' с атрибутом 'rel', равным 'next')\n",
    "            # Если ссылка найдена, \n",
    "            flag = False \n",
    "            for link in soup.find_all('a'):\n",
    "                if not flag and link.has_attr('href') and link.has_attr('rel'):\n",
    "                    if link.get('rel')[0] == 'next':\n",
    "                        flag = True\n",
    "                        s = link.get('href')\n",
    "                        theme_address = site + 'showthread.php?' + re.search(thread + '[\\S]+', s)[0]\n",
    "        messages.append(['\\''+ theme[0] + '\\'', theme_messages])\n",
    "    return messages"
   ]
  },
  {
   "cell_type": "code",
   "execution_count": 7,
   "metadata": {},
   "outputs": [],
   "source": [
    "def save_messages(messages, folder_name):\n",
    "    f_name = os.path.join(folder_name[3], folder_name[3] + '_' + folder_name[0] + '_' + folder_name[1] + '.csv')\n",
    "    with open(f_name, 'w', encoding='utf-8') as ouf:\n",
    "        ouf.write('Code,Folder,Theme,Date,Time,Author,Message\\n')\n",
    "        for message in messages:\n",
    "            header = folder_name[:2] + [message[0]]\n",
    "            for item in message[1]:\n",
    "                ouf.write(','.join(header + item))\n",
    "                ouf.write('\\n')"
   ]
  },
  {
   "cell_type": "code",
   "execution_count": 8,
   "metadata": {},
   "outputs": [],
   "source": [
    "def scraper(site, folder_names):\n",
    "    for folder_name in folder_names:\n",
    "        if len(folder_name[2]) > 0:\n",
    "            folder = folder_name[2]\n",
    "            current_themes = collect_themes(site, folder)\n",
    "            current_messages = collect_messages(site, current_themes)\n",
    "            save_messages(current_messages, folder_name)\n",
    "    print('Information collected')"
   ]
  },
  {
   "cell_type": "code",
   "execution_count": 9,
   "metadata": {
    "scrolled": true
   },
   "outputs": [],
   "source": [
    "%load_ext ipytelegram\n",
    "%reload_ext ipytelegram\n",
    "import telepot\n",
    "bot = telepot.Bot('1301715666:AAGBzLlVDZI7KzGZ_DNyukjauVeTt0QpO-A')\n",
    "response = bot.getUpdates()\n",
    "%telegram_setup 1301715666:AAGBzLlVDZI7KzGZ_DNyukjauVeTt0QpO-A 1305740495"
   ]
  },
  {
   "cell_type": "code",
   "execution_count": 13,
   "metadata": {
    "scrolled": true
   },
   "outputs": [
    {
     "data": {
      "application/vnd.jupyter.widget-view+json": {
       "model_id": "a7e8cd42b73f40da8078167325e9d09f",
       "version_major": 2,
       "version_minor": 0
      },
      "text/plain": [
       "HBox(children=(HTML(value=''), FloatProgress(value=0.0, max=11.0), HTML(value='')))"
      ]
     },
     "metadata": {},
     "output_type": "display_data"
    },
    {
     "name": "stdout",
     "output_type": "stream",
     "text": [
      "Глушитель\n",
      "Пожелания по улучшению модели Лада Ларгус\n",
      "Ваше мнение о Лада Ларгус\n",
      "Неисправности Ларгуса- писать КРАТКО\n",
      "Опыт покупки LADA Largus\n",
      "Неисправность двигателя К4М\n",
      "Эх, дороги или путешествия на дальние расстояния!\n",
      "Собираем отзывы о браке передних сидений Ларгуса.\n",
      "пистолет на АЗС отщелкивает не на полном баке\n",
      "Вот и заводской дефект\n",
      "лада ларгус это мул-труженник\n",
      "\n"
     ]
    },
    {
     "data": {
      "application/vnd.jupyter.widget-view+json": {
       "model_id": "b7eaa5c6e509406eb57a598d5edd97b9",
       "version_major": 2,
       "version_minor": 0
      },
      "text/plain": [
       "HBox(children=(HTML(value=''), FloatProgress(value=0.0, max=24.0), HTML(value='')))"
      ]
     },
     "metadata": {},
     "output_type": "display_data"
    },
    {
     "name": "stdout",
     "output_type": "stream",
     "text": [
      "Плавают обороты\n",
      "Диагностика, Настройка (Чип-тюнинг), Ремонт  Лада-Ларгус (СТО Auto063 г. Самара)\n",
      "проблема с тросиком газа\n",
      "Замена ремня генератора.\n",
      "вибрация в салоне\n",
      "ГБО\n",
      "Ошибки двигателя К4М\n",
      "Заглох в пробке\n",
      "Установка фильтра тонкой очистки топлива\n",
      "Стрекот со стороны ремня навесного, двигатель 21129\n",
      "Термостат! Температура открывания?\n",
      "Будут ли устанавливаться на LADA Largus вазовские моторы? Будет ли дизель?\n",
      "Двигатель К4М\n",
      "Замена ИКЗ на КЗ от ВАЗ на К4м\n",
      "Двигатели Лада Ларгус\n",
      "Как правильно мыть двигатель Ларгуса?\n",
      "что за пятно\n",
      "Срочно,рывки в движении\n",
      "Пружинные хомуты\n",
      "Защита двигателя\n",
      "Как правильно \"обкатать\" двигатель на Лада Ларгус.\n",
      "Проблемы с гидрокомпенсаторами клапанов на ДВС.\n",
      "Регулятор холостого хода (РХХ)\n",
      "с каким двигателем лучше ?\n",
      "\n"
     ]
    },
    {
     "data": {
      "application/vnd.jupyter.widget-view+json": {
       "model_id": "d023068f6e8247daa47db52c9682ee08",
       "version_major": 2,
       "version_minor": 0
      },
      "text/plain": [
       "HBox(children=(HTML(value=''), FloatProgress(value=0.0, max=12.0), HTML(value='')))"
      ]
     },
     "metadata": {},
     "output_type": "display_data"
    },
    {
     "name": "stdout",
     "output_type": "stream",
     "text": [
      "Вибрация КПП.\n",
      "Неисправности коробки передач.\n",
      "ШРУСЫ\n",
      "Сцепление перегрелось...\n",
      "Замена шестерёнок пятой передачи\n",
      "Какой ставить привод?\n",
      "Пыльники ШРУСА-это болезнь Ларгуса?\n",
      "гидропривод сцепления у нас регулируется?\n",
      "масло в КПП\n",
      "Ахтунг, ахтунг! На легковом Ларгусе КПП от фургона!\n",
      "Будет ли «автомат» у Лада Ларгус?\n",
      "Вибрация сцепления\n",
      "\n"
     ]
    },
    {
     "data": {
      "application/vnd.jupyter.widget-view+json": {
       "model_id": "b84edc91e31c44bcbd7c5cfea2dc0afe",
       "version_major": 2,
       "version_minor": 0
      },
      "text/plain": [
       "HBox(children=(HTML(value=''), FloatProgress(value=0.0, max=17.0), HTML(value='')))"
      ]
     },
     "metadata": {},
     "output_type": "display_data"
    },
    {
     "name": "stdout",
     "output_type": "stream",
     "text": [
      "Шины Лада Ларгус\n",
      "Диски Лада Ларгус\n",
      "Задние тормоза\n",
      "Подвеска и рулевое управление Лада Ларгус\n",
      "Что же свистит?\n",
      "Колодки тормозные (передние)\n",
      "Трудно снять передние родные диски\n",
      "АБС\n",
      "Съедается резина на задних колесах...\n",
      "колодки\n",
      "колесные болты\n",
      "Всё о зимних шинах. Тесты.\n",
      "Давление в шинах\n",
      "Фото Ларгуса на дисках. Только фото.\n",
      "есть ли в ларгусе ebd?\n",
      "тормоза\n",
      "Колпаки на колёсах\n",
      "\n"
     ]
    },
    {
     "data": {
      "application/vnd.jupyter.widget-view+json": {
       "model_id": "95323bffb2ff43a9aec2a84953b464ed",
       "version_major": 2,
       "version_minor": 0
      },
      "text/plain": [
       "HBox(children=(HTML(value=''), FloatProgress(value=0.0, max=53.0), HTML(value='')))"
      ]
     },
     "metadata": {},
     "output_type": "display_data"
    },
    {
     "name": "stdout",
     "output_type": "stream",
     "text": [
      "Расположение предохранителей\n",
      "Штатная музыка на Ларгусе\n",
      "Замена ламп в задних фонарях.\n",
      "Стартер\n",
      "Дальний свет фар вместо ДХО\n",
      "Активация штатных опций электроники Ларгуса\n",
      "Перестал работать звуковой сигнал/ подрулевой переключатель\n",
      "Компрессор для шин в прикуриватель\n",
      "Непонятки по электрооборудованию...\n",
      "Низкое напряжение (11.6 в) на холодную (после запуска)\n",
      "Подсветка замка зажигания\n",
      "Аккумулятор\n",
      "Замена штатной магнитолы на 2DIN\n",
      "ПТФ в ДХО за десять минут...\n",
      "ближний и дальний свет\n",
      "Доводчик на 2/4 стекла\n",
      "Кнопки управления электростеклоподъемниками .\n",
      "Реле с паузой (регулируемой) на задний/передний стеклоочиститель\n",
      "Выключатель стоп сигналов\n",
      "Выключатель фонарей заднего хода.\n",
      "освещение салона.\n",
      "Штатный бортовой компьютер в комбинации приборов\n",
      "Hands free\n",
      "Штатная антенна\n",
      "\"джеки чан\" (символ двигателя) загорается иногда.\n",
      "Перестал работать  подогрев сидения\n",
      "Периодически отключается разблокировка дверей\n",
      "Не работает вентилятор отопителя салона\n",
      "Электрообогрев заднего стекла\n",
      "освещение бардачка.\n",
      "Датчик дождя\n",
      "Посветка кнопок подогрева сидений\n",
      "стопсигналы ларгуса\n",
      "Плавное включение ламп Бс + развязка питания с помощью доп.реле\n",
      "Планируется ли замена ГУР на ЭУР?\n",
      "Сигнализатор \"забытого\" ручного (стояночного) тормоза\n",
      "перегорает F 36\n",
      "Подушки безопасности\n",
      "Противотуманки\n",
      "ВСЁ о плафоне освещения салона\n",
      "Подрулевой пульт для штатной магнитолы\n",
      "КАК ПОДКЛЮЧИТЬ МАГНИТОЛУ\n",
      "Лампы головного света\n",
      "двухтональный сигнал\n",
      "ДХО !\n",
      "Сила тока на топливном насосе\n",
      "Концевики дверей\n",
      "Запотевание фар\n",
      "Работа мотора отопителя салона\n",
      "Электро стекло подьемники\n",
      "Новая электронная панель приборов\n",
      "Выключение БС вместе с зажиганием\n",
      "Будет ли обогрев второй половины заднего стекла и боковых форточек?\n",
      "\n"
     ]
    },
    {
     "data": {
      "application/vnd.jupyter.widget-view+json": {
       "model_id": "6df26590551749aeb46b02aa14059acc",
       "version_major": 2,
       "version_minor": 0
      },
      "text/plain": [
       "HBox(children=(HTML(value=''), FloatProgress(value=0.0, max=54.0), HTML(value='')))"
      ]
     },
     "metadata": {},
     "output_type": "display_data"
    },
    {
     "name": "stdout",
     "output_type": "stream",
     "text": [
      "FAQ/Оглавление раздела\n",
      "Антикор\n",
      "Авто чехлы\n",
      "Сиденья Ларгуса\n",
      "2-й ряд сидений на 5-местном люкс. поломка подъёма.\n",
      "Сверчки\n",
      "Гамма цветов кузовов Лада Ларгус\n",
      "Коврик в багажник\n",
      "Из 5ти местной в 7ми местную\n",
      "Ночевка в Ларгусе\n",
      "Кузов Лада Ларгус\n",
      "Двери багажника\n",
      "Ларгус и двухметровый холодильник\n",
      "Атермальные стекла.\n",
      "Дворник стеклоочистителя.\n",
      "Сварка и окраска кузовов LADA Largus\n",
      "Стекло\n",
      "Где устанавливать домкрат\n",
      "Система отопления и вентиляции. Кондиционер.\n",
      "зеркала заднего вида\n",
      "Бампер передний\n",
      "Поездка при -20 на 200км\n",
      "Шумоизоляция\n",
      "Установка салонного фильтра.\n",
      "Крепление задних ковриков\n",
      "Трещины ЛКП над форточкой третьего ряда\n",
      "Газовый упор капота\n",
      "Уплотнитель лобового стекла\n",
      "Потолочная полочка\n",
      "Передние фартуки (брызговики).\n",
      "Установка подлокотника в Лада Ларгус\n",
      "Защитная сетка для радиаторов\n",
      "Вода в салоне, конденсат кондиционера\n",
      "Задние брызговики (кто где и какие брал). Сравнение и отзывы.\n",
      "Фургон LADA Largus. Обшивка багажного отделения (фото)\n",
      "Регулировка дверей.\n",
      "Замок задней багажной двери\n",
      "Особенности конструкции кузова LADA Largus и акустический комфорт в салоне\n",
      "Вонь в салоне после проезда по лужам\n",
      "Форсунки\n",
      "Модернизация трапеции стеклоочистителей или Боремся с соплей на ветровом стекле\n",
      "Доработки внутри  кузова фургона largusa\n",
      "Внимание!Ржавчина!\n",
      "небольшая доработка системы кондиционирования\n",
      "Держатель боковины бампера\n",
      "Пластиковые накладки передних сидений\n",
      "Жидкие подкрылки и антишум\n",
      "Центральная накладка панели приборов\n",
      "Наклейка с рекомендациями под капотом\n",
      "Внешние размеры кузовных элементов\n",
      "Внутрение размеры\n",
      "боковые подушки\n",
      "оптимизирование пространства багажника (5-мест)\n",
      "Катафорезный грунт для Лада Ларгус\n",
      "\n"
     ]
    },
    {
     "data": {
      "application/vnd.jupyter.widget-view+json": {
       "model_id": "680cd336bc4d4776a6932a8ece9e2531",
       "version_major": 2,
       "version_minor": 0
      },
      "text/plain": [
       "HBox(children=(HTML(value=''), FloatProgress(value=0.0, max=14.0), HTML(value='')))"
      ]
     },
     "metadata": {},
     "output_type": "display_data"
    },
    {
     "name": "stdout",
     "output_type": "stream",
     "text": [
      "Бензин для Ларгуса: 92 или 95?\n",
      "Расход топлива\n",
      "Моторное масло для Лада Ларгус\n",
      "Топливный бак\n",
      "Масло для ГУР\n",
      "Тормозная жидкость\n",
      "Антифриз для Лада Ларгус\n",
      "Метанол или \"официальная\" незамерзайка?\n",
      "Запас хода при горящем датчике топлива.\n",
      "Какое масло льют на заводе??\n",
      "Уровень моторного масла.\n",
      "Почему для Ларгуса рекомендовано 95-98 топливо\n",
      "FAQ Замена жидкости ГУР\n",
      "Тестим масла на ойл-клубе\n",
      "\n"
     ]
    },
    {
     "data": {
      "application/vnd.jupyter.widget-view+json": {
       "model_id": "e907d9e88503461495a75febbf0573b5",
       "version_major": 2,
       "version_minor": 0
      },
      "text/plain": [
       "HBox(children=(HTML(value=''), FloatProgress(value=0.0, max=21.0), HTML(value='')))"
      ]
     },
     "metadata": {},
     "output_type": "display_data"
    },
    {
     "name": "stdout",
     "output_type": "stream",
     "text": [
      "Официальный дилер АВТОКОМПЛЕКС - обслуживание и ремонт клубных LADA Largus\n",
      "ТО-1 отчеты\n",
      "Орехово-АвтоЦентр - сервисное обслуживание у официального дилера LADA\n",
      "Техническое обслуживание автомобилей LADA: ТО-3 в подарок?\n",
      "Т.О.-2\n",
      "Вопросы по гарантии/сервису\n",
      "ТО-3, отчеты\n",
      "Восстановление Ларгуса после ДТП.\n",
      "ТО-5\n",
      "ОСАГО\n",
      "Информационные письма и предписания\n",
      "Диалог с ИПГ (книга страждущих :)) )\n",
      "Поломка \"прищепок\" ремней безопасности второго ряда сидений - коллективное письмо\n",
      "Каско\n",
      "Суровая гарантия\n",
      "Гарантия и ДОПы\n",
      "Подрамник.\n",
      "Когда в свободной продаже будут запчасти на Ларгус?\n",
      "Лада Имидж\n",
      "Гарантия \"поштучно\"\n",
      "снесла водительское зеркало\n",
      "\n"
     ]
    },
    {
     "data": {
      "application/vnd.jupyter.widget-view+json": {
       "model_id": "e154f3b854dc4d34a2d80bc4afa001ce",
       "version_major": 2,
       "version_minor": 0
      },
      "text/plain": [
       "HBox(children=(HTML(value=''), FloatProgress(value=0.0, max=8.0), HTML(value='')))"
      ]
     },
     "metadata": {},
     "output_type": "display_data"
    },
    {
     "name": "stdout",
     "output_type": "stream",
     "text": [
      "Каталог деталей\n",
      "Лада Ларгус и мороз\n",
      "Документация в электронном виде\n",
      "Код заводской магнитолы\n",
      "Лючок бензобака\n",
      "Тип и номер краски,аналоги\n",
      "По передним боковым стёклам.\n",
      "Неоригинальные запчасти\n",
      "\n"
     ]
    },
    {
     "data": {
      "application/vnd.jupyter.widget-view+json": {
       "model_id": "05016fea396547c3b99bdcdfd0c4e6cf",
       "version_major": 2,
       "version_minor": 0
      },
      "text/plain": [
       "HBox(children=(HTML(value=''), FloatProgress(value=0.0, max=43.0), HTML(value='')))"
      ]
     },
     "metadata": {},
     "output_type": "display_data"
    },
    {
     "name": "stdout",
     "output_type": "stream",
     "text": [
      "Автопалатка для LADA Largus: отель на крыше автомобиля?\n",
      "Обновление+цены апрель+ Бесплатная доставка на сумму от 13000. часть 1\n",
      "Круиз Контроль\n",
      "Какие ДОПы выбирать?\n",
      "Рейлинги, багажник, бокс\n",
      "Допы для удобства (не для красоты :) )\n",
      "Колонки\n",
      "Фаркоп + велокрепление\n",
      "Установка видеорегистратора\n",
      "ГБО на Ларгус\n",
      "Корзина на стандартные рейлинги Ларгуса + бесплатная доставка!\n",
      "тюнинг\n",
      "Дефлекторы\n",
      "Тюнинг стоек дверей.\n",
      "Автобоксы со скидкой или Бесплатная доставка от Пт Групп?!\n",
      "омыватель заднего стекла льёт не туда куда надо. решено.\n",
      "Бесплатная доставка от ПТ Групп\n",
      "Новогодние скидки на весь АВТОТЮНИНГ!\n",
      "Чип-тюниг Ларгуса ОТЗЫВЫ.\n",
      "бортовой компьютер. какой для ларгуса? и попутные вопросы.\n",
      "Скидка 20% на все! \"Неделя черных пятниц\"\n",
      "Скидка на всю продукцию!\n",
      "Корзина на Ларгус без поперечин!\n",
      "Готиовимся к зиме. Где найти намордник для Ларгус.\n",
      "Путешествие одного Ларгуса с Автобоксом в Грузию!\n",
      "Обновление+цены Декабрь 2017 Дополнительное оборудование \"ПТ Групп\", Тольятти часть 2\n",
      "Предстартовый подогрев двигателя от 220в\n",
      "Обратный клапан в систему омывания лобового/заднего стекол\n",
      "Задние тюнинг фонари.\n",
      "Тонировка\n",
      "Удлинитель поворотников с функцией аварийки при заднем ходе\n",
      "Сигнализация с автозапуском\n",
      "Брелок ключей. Какой?\n",
      "Ручка КПП\n",
      "Внутренняя ручка задней двери.\n",
      "Нет мертвым зонам\n",
      "Доп. сигнализация\n",
      "Рация\n",
      "Второй пол в автомобиле\n",
      "какой ксенон лучше?\n",
      "На морозе глючит парктроник!\n",
      "Навигация в Ларгусе\n",
      "Сетка для собак\n",
      "\n",
      "Information collected\n"
     ]
    }
   ],
   "source": [
    "%%telegram_send Next message\n",
    "scraper(site, folder_names)"
   ]
  },
  {
   "cell_type": "code",
   "execution_count": null,
   "metadata": {},
   "outputs": [],
   "source": [
    "import pandas as pd\n",
    "mess = pd.read_csv('./LADA VESTA/LADA VESTA_10_Эксплуатация.csv', quotechar=\"'\")\n",
    "mess"
   ]
  },
  {
   "cell_type": "code",
   "execution_count": 8,
   "metadata": {},
   "outputs": [],
   "source": [
    "folder_names = [['7', 'Кузов', 'f=18', 'LADA VESTA']]\n",
    "folder = folder_names[0][2]\n",
    "current_themes = collect_themes(site, folder)"
   ]
  },
  {
   "cell_type": "code",
   "execution_count": null,
   "metadata": {},
   "outputs": [],
   "source": [
    "themes = []\n",
    "flag = True\n",
    "\n",
    "while flag:\n",
    "    \n",
    "    resp = urlopen(site_address) # скачиваем файл\n",
    "    html = resp.read().decode('utf-8') # считываем содержимое\n",
    "    soup = BeautifulSoup(html, 'html.parser') # делаем суп\n",
    "    \n",
    "    flag = False\n",
    "    for link in soup.find_all('a'):\n",
    "        if link.has_attr('href') and link.has_attr('id'):\n",
    "            if re.search('thread_title_', str(link.get('id'))):\n",
    "                s = link.get('href')\n",
    "                s = site + 'showthread.php?' + re.search('t=[0-9]+', s)[0]\n",
    "                themes.append([link.get_text(), s])\n",
    "        if not flag and link.has_attr('href') and link.has_attr('rel'):\n",
    "            if link.get('rel')[0] == 'next':\n",
    "                flag = True\n",
    "                s = link.get('href')\n",
    "                site_address = site + 'forumdisplay.php?' + re.search(folder + '[\\S]+', s)[0]"
   ]
  },
  {
   "cell_type": "code",
   "execution_count": 99,
   "metadata": {},
   "outputs": [],
   "source": [
    "themes = [['Механика, робот или автомат?',\n",
    "  'http://www.lada-vesta.net/showthread.php?t=47']]"
   ]
  },
  {
   "cell_type": "code",
   "execution_count": null,
   "metadata": {
    "scrolled": true
   },
   "outputs": [],
   "source": [
    "messages = []\n",
    "for theme in tqdm(themes):\n",
    "    theme_address = theme[1]\n",
    "    thread = re.search('t=[0-9]+', theme_address)[0]\n",
    "    flag = True\n",
    "    theme_messages = []\n",
    "    post_data = {}\n",
    "    while flag:\n",
    "        resp = urlopen(theme_address) # скачиваем файл\n",
    "        html = resp.read().decode('utf-8', errors='ignore') # считываем содержимое\n",
    "        soup = BeautifulSoup(html, 'html.parser') # делаем суп\n",
    "        #Собираем некоторые метаданные сообщений на текущей странице\n",
    "        tables = soup.find_all('table')\n",
    "        for next_table in tables:\n",
    "            if next_table.has_attr('id') and re.search('post[0-9]+', next_table['id']):\n",
    "                post_column = next_table.find('td')\n",
    "                post_date = post_column.get_text().strip()\n",
    "                post_data[re.sub('post', '', next_table['id'])] = [post_date]\n",
    "        #Собираем сами сообщения\n",
    "        divs = soup.find_all('div')\n",
    "        for div in divs:\n",
    "            if div.has_attr('id') and re.search('(postmenu_)([0-9]+)(_menu)', div['id']):\n",
    "                continue\n",
    "            if div.has_attr('id') and re.search('postmenu_', div['id']):\n",
    "                author = div.find('a')\n",
    "                if author != None:\n",
    "                    author_id = re.search('u=[0-9]+', author['href'])[0]\n",
    "                    author_nickname = author.get_text()\n",
    "                else:\n",
    "                    author_id = div.get_text().strip()\n",
    "                    author_nickname = 'Guest'\n",
    "                post_data[re.sub('postmenu_', '', div['id'])].append([author_id, author_nickname])\n",
    "                print(re.sub('postmenu_', '', div['id']), post_data[re.sub('postmenu_', '', div['id'])])\n",
    "            if div.has_attr('id') and re.search('post_message_', div['id']):\n",
    "                message_id = re.sub('post_message_', '', div['id'])\n",
    "                if message_id in post_data:\n",
    "                    post_date = post_data[message_id][0]\n",
    "                    author = post_data[message_id][1][1]\n",
    "                else:\n",
    "                    post_date = ''\n",
    "                    author = ''\n",
    "                for item in div.children:\n",
    "                    if item.name == 'div':\n",
    "                        item.clear()\n",
    "                s = re.sub('[\\']+', '`', div.get_text())\n",
    "                s = '\\'' + re.sub('[\\s]+', ' ', s) + '\\''\n",
    "                if len(s) > 0:\n",
    "                    theme_messages.append([post_date, author, s])\n",
    "        # В отдельном цикле ищем ссылку на следующую страницу темы (это 'a' с атрибутом 'rel', равным 'next')\n",
    "        # Если ссылка найдена, \n",
    "        flag = False \n",
    "        for link in soup.find_all('a'):\n",
    "            if not flag and link.has_attr('href') and link.has_attr('rel'):\n",
    "                if link.get('rel')[0] == 'next':\n",
    "                    flag = True\n",
    "                    s = link.get('href')\n",
    "                    theme_address = site + 'showthread.php?' + re.search(thread + '[\\S]+', s)[0]\n",
    "    messages.append(['\\''+ theme[0] + '\\'', theme_messages])"
   ]
  },
  {
   "cell_type": "code",
   "execution_count": null,
   "metadata": {},
   "outputs": [],
   "source": [
    "messages"
   ]
  },
  {
   "cell_type": "code",
   "execution_count": 85,
   "metadata": {},
   "outputs": [],
   "source": [
    "f_name = os.path.join(folder_name[3], folder_name[3] + '_' + folder_name[0] + '_' + folder_name[1] + '.csv')\n",
    "with open(f_name, 'w', encoding='utf-8') as ouf:\n",
    "    ouf.write('Code,Folder,Theme,Date,Author,Message\\n')\n",
    "    for message in messages:\n",
    "        header = folder_name[:2] + [message[0]]\n",
    "        for item in message[1]:\n",
    "            ouf.write(','.join(header + item))\n",
    "            ouf.write('\\n')"
   ]
  },
  {
   "cell_type": "code",
   "execution_count": 69,
   "metadata": {},
   "outputs": [
    {
     "data": {
      "text/plain": [
       "'LADA VESTA/LADA VESTA_0_Отзывы.csv'"
      ]
     },
     "execution_count": 69,
     "metadata": {},
     "output_type": "execute_result"
    }
   ],
   "source": [
    "folder_name = ['0', 'Отзывы', 'f=25', 'LADA VESTA']\n",
    "f_name = folder_name[3] + '/' + folder_name[3] + '_' + folder_name[0] + '_' + folder_name[1] + '.csv'\n",
    "f_name"
   ]
  },
  {
   "cell_type": "code",
   "execution_count": null,
   "metadata": {},
   "outputs": [],
   "source": [
    "'''messages = []\n",
    "theme_address = 'http://www.lada-vesta.net/showthread.php?t=9571'\n",
    "resp = urlopen(theme_address) # скачиваем файл\n",
    "html = resp.read().decode('utf-8', errors='ignore') # считываем содержимое\n",
    "soup = BeautifulSoup(html, 'html.parser') # делаем суп\n",
    "divs = soup.find_all('div')\n",
    "for div in divs:\n",
    "    if div.has_attr('id'):\n",
    "        if re.search('post_message_', div['id']):\n",
    "            for item in div.children:\n",
    "                if item.name != 'div':\n",
    "                    s = str(item).strip()\n",
    "                    if len(s) > 0:\n",
    "                        messages.append([s])\n",
    "print(messages)'''"
   ]
  },
  {
   "cell_type": "code",
   "execution_count": null,
   "metadata": {},
   "outputs": [],
   "source": []
  }
 ],
 "metadata": {
  "kernelspec": {
   "display_name": "Python 3",
   "language": "python",
   "name": "python3"
  },
  "language_info": {
   "codemirror_mode": {
    "name": "ipython",
    "version": 3
   },
   "file_extension": ".py",
   "mimetype": "text/x-python",
   "name": "python",
   "nbconvert_exporter": "python",
   "pygments_lexer": "ipython3",
   "version": "3.8.5"
  }
 },
 "nbformat": 4,
 "nbformat_minor": 4
}
