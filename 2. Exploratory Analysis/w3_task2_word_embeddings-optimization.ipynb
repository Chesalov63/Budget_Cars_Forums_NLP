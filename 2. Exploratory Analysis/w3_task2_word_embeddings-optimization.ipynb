{
 "cells": [
  {
   "cell_type": "markdown",
   "metadata": {},
   "source": [
    "# Word2Vec"
   ]
  },
  {
   "cell_type": "code",
   "execution_count": null,
   "metadata": {},
   "outputs": [],
   "source": [
    "# Если Вы запускаете ноутбук на colab или kaggle,\n",
    "# выполните следующие строчки, чтобы подгрузить библиотеку dlnlputils:\n",
    "\n",
    "# !git clone https://github.com/Samsung-IT-Academy/stepik-dl-nlp.git && pip install -r stepik-dl-nlp/requirements.txt\n",
    "# import sys; sys.path.append('./stepik-dl-nlp')"
   ]
  },
  {
   "cell_type": "code",
   "execution_count": 2,
   "metadata": {
    "ExecuteTime": {
     "end_time": "2019-10-29T19:19:30.785285Z",
     "start_time": "2019-10-29T19:19:29.542846Z"
    }
   },
   "outputs": [],
   "source": [
    "%load_ext autoreload\n",
    "%autoreload 2\n",
    "\n",
    "import random\n",
    "import pandas as pd\n",
    "import numpy as np\n",
    "\n",
    "import matplotlib.pyplot as plt\n",
    "%matplotlib inline\n",
    "\n",
    "import torch\n",
    "from torch import nn\n",
    "from torch.nn import functional as F\n",
    "\n",
    "import dlnlputils\n",
    "from dlnlputils.data import tokenize_corpus, build_vocabulary, texts_to_token_ids, \\\n",
    "    PaddedSequenceDataset, Embeddings\n",
    "from dlnlputils.pipeline import train_eval_loop, predict_with_model, init_random_seed\n",
    "from dlnlputils.visualization import plot_vectors\n",
    "\n",
    "init_random_seed()"
   ]
  },
  {
   "cell_type": "markdown",
   "metadata": {},
   "source": [
    "## Загрузка данных и подготовка корпуса"
   ]
  },
  {
   "cell_type": "code",
   "execution_count": 3,
   "metadata": {
    "ExecuteTime": {
     "end_time": "2019-10-29T19:19:31.270503Z",
     "start_time": "2019-10-29T19:19:30.787789Z"
    }
   },
   "outputs": [
    {
     "name": "stdout",
     "output_type": "stream",
     "text": [
      "Обучающая выборка 125344\n",
      "Тестовая выборка 53719\n",
      "\n",
      "1/4 cup sour cream\n",
      "10 ounces swordfish, red snapper or other firm-fleshed fish\n",
      "1 tablespoon minced basil leaves\n",
      "Handful fresh parsley, finely minced\n",
      "4 ounces lard or butter, plus more for brushing tops\n",
      "4 to 5 green cardamom pods\n",
      "1 stick ( 1/4 pound) unsalted butter, softened\n",
      "1/4 teaspoon red pepper flakes, preferably Turkish or Aleppo (see note), more to taste\n",
      "1 tablespoon fresh lemon juice\n",
      "1/4 cup scallions, thinly sliced\n"
     ]
    }
   ],
   "source": [
    "# Если Вы запускаете ноутбук на colab или kaggle, добавьте в начало пути ./stepik-dl-nlp\n",
    "full_dataset = list(pd.read_csv('./datasets/nyt-ingredients-snapshot-2015.csv')['input'].dropna())\n",
    "random.shuffle(full_dataset)\n",
    "\n",
    "TRAIN_VAL_SPLIT = int(len(full_dataset) * 0.7)\n",
    "train_source = full_dataset[:TRAIN_VAL_SPLIT]\n",
    "test_source = full_dataset[TRAIN_VAL_SPLIT:]\n",
    "print(\"Обучающая выборка\", len(train_source))\n",
    "print(\"Тестовая выборка\", len(test_source))\n",
    "print()\n",
    "print('\\n'.join(train_source[:10]))"
   ]
  },
  {
   "cell_type": "code",
   "execution_count": 4,
   "metadata": {},
   "outputs": [],
   "source": [
    "import spacy\n",
    "spacy.load('en')\n",
    "from spacy.lang.en import English\n",
    "en_nlp = spacy.load(\"en_core_web_sm\")\n",
    "#en_nlp = en_core_web_lg.load()"
   ]
  },
  {
   "cell_type": "code",
   "execution_count": null,
   "metadata": {},
   "outputs": [],
   "source": []
  },
  {
   "cell_type": "code",
   "execution_count": null,
   "metadata": {},
   "outputs": [],
   "source": [
    "# Лучше брать большую модель, потому что маленькая часто неправильно ставит частеречную разметку\n",
    "# Для этого:\n",
    "! python3 -m spacy download en_core_web_lg\n",
    "import en_core_web_lg"
   ]
  },
  {
   "cell_type": "code",
   "execution_count": null,
   "metadata": {},
   "outputs": [],
   "source": [
    "train_tokenized = list(nlp.pipe(train_source))\n",
    "test_tokenized = list(nlp.pipe(test_source))"
   ]
  },
  {
   "cell_type": "code",
   "execution_count": 11,
   "metadata": {},
   "outputs": [],
   "source": [
    "import re\n",
    "TOKEN_RE = re.compile(r'[\\S]+')\n",
    "\n",
    "def tokenize_spacy(txt):\n",
    "    txt = \" \".join(TOKEN_RE.findall(txt))\n",
    "    txt = en_nlp(txt)\n",
    "    return [token.lemma_ for token in txt if not (token.is_stop or \n",
    "                                                  (token.pos_ == \"PUNCT\") or \n",
    "                                                  (token.pos_ == \"X\") or \n",
    "                                                  (token.pos_ == \"NUM\") or \n",
    "                                                  (token.pos_ == \"SYM\")\n",
    "                                                 )]"
   ]
  },
  {
   "cell_type": "code",
   "execution_count": 42,
   "metadata": {
    "scrolled": false
   },
   "outputs": [
    {
     "name": "stdout",
     "output_type": "stream",
     "text": [
      ". . PUNCT . ROOT . False False\n"
     ]
    },
    {
     "data": {
      "text/plain": [
       "[]"
      ]
     },
     "execution_count": 42,
     "metadata": {},
     "output_type": "execute_result"
    }
   ],
   "source": [
    "txt = \"have on this funky looking car, please e-mail.\"\n",
    "txt = \"early 70s. It was called a Bricklin. The doors were really small. In addition,\"\n",
    "txt = \"the other day. It was a 2-door sports car, looked to be from > the late 60s/\"\n",
    "txt = '.'\n",
    "doc = en_nlp(txt)\n",
    "for token in doc:\n",
    "    print(token.text, token.lemma_, token.pos_, token.tag_, token.dep_,\n",
    "            token.shape_, token.is_alpha, token.is_stop)\n",
    "tokenize_spacy(txt)"
   ]
  },
  {
   "cell_type": "code",
   "execution_count": 13,
   "metadata": {},
   "outputs": [],
   "source": [
    "from tqdm.notebook import tqdm\n",
    "def tokenize_corpus(texts, tokenizer=tokenize_spacy, **tokenizer_kwargs):\n",
    "    return [tokenizer(text, **tokenizer_kwargs) for text in tqdm(texts)]"
   ]
  },
  {
   "cell_type": "code",
   "execution_count": 14,
   "metadata": {
    "ExecuteTime": {
     "end_time": "2019-10-29T19:19:32.137838Z",
     "start_time": "2019-10-29T19:19:31.272363Z"
    },
    "scrolled": true
   },
   "outputs": [
    {
     "data": {
      "application/vnd.jupyter.widget-view+json": {
       "model_id": "6f88918ea6ac4e9ba5dca2607bfa40fd",
       "version_major": 2,
       "version_minor": 0
      },
      "text/plain": [
       "HBox(children=(HTML(value=''), FloatProgress(value=0.0, max=125344.0), HTML(value='')))"
      ]
     },
     "metadata": {},
     "output_type": "display_data"
    },
    {
     "name": "stdout",
     "output_type": "stream",
     "text": [
      "\n"
     ]
    },
    {
     "data": {
      "application/vnd.jupyter.widget-view+json": {
       "model_id": "9dd18d5987104fc089de7ea9fd38eebd",
       "version_major": 2,
       "version_minor": 0
      },
      "text/plain": [
       "HBox(children=(HTML(value=''), FloatProgress(value=0.0, max=53719.0), HTML(value='')))"
      ]
     },
     "metadata": {},
     "output_type": "display_data"
    },
    {
     "name": "stdout",
     "output_type": "stream",
     "text": [
      "\n",
      "cup sour cream\n",
      "ounce swordfish red snapper firm flesh fish\n",
      "tablespoon mince basil leave\n",
      "handful fresh parsley finely mince\n",
      "ounce lard butter plus brush top\n",
      "green cardamom pod\n",
      "stick pound unsalted butter soften\n",
      "teaspoon red pepper flake preferably turkish Aleppo note taste\n",
      "tablespoon fresh lemon juice\n",
      "cup scallion thinly sliced\n"
     ]
    }
   ],
   "source": [
    "# токенизируем\n",
    "train_tokenized = tokenize_corpus(train_source)\n",
    "test_tokenized = tokenize_corpus(test_source)\n",
    "print('\\n'.join(' '.join(sent) for sent in train_tokenized[:10]))"
   ]
  },
  {
   "cell_type": "code",
   "execution_count": 15,
   "metadata": {},
   "outputs": [
    {
     "name": "stdout",
     "output_type": "stream",
     "text": [
      "Размер словаря 2188\n",
      "[('<PAD>', 0), ('cup', 1), ('tablespoon', 2), ('teaspoon', 3), ('chop', 4), ('salt', 5), ('pepper', 6), ('pound', 7), ('oil', 8), ('fresh', 9)]\n"
     ]
    }
   ],
   "source": [
    "# строим словарь\n",
    "vocabulary, word_doc_freq = build_vocabulary(train_tokenized, max_doc_freq=0.9, min_count=5, pad_word='<PAD>')\n",
    "print(\"Размер словаря\", len(vocabulary))\n",
    "print(list(vocabulary.items())[:10])"
   ]
  },
  {
   "cell_type": "code",
   "execution_count": 16,
   "metadata": {
    "ExecuteTime": {
     "end_time": "2019-10-29T19:19:32.686258Z",
     "start_time": "2019-10-29T19:19:32.327711Z"
    }
   },
   "outputs": [
    {
     "name": "stdout",
     "output_type": "stream",
     "text": [
      "1 220 50\n",
      "15 812 30 544 242 572 176\n",
      "2 19 82 33\n",
      "413 9 42 17 19\n",
      "15 540 21 44 654 433\n",
      "51 317 408\n",
      "125 7 52 21 258\n",
      "3 30 6 128 69 1127 695 135 11\n",
      "2 9 31 29\n",
      "1 76 61 101\n"
     ]
    }
   ],
   "source": [
    "# отображаем в номера токенов\n",
    "train_token_ids = texts_to_token_ids(train_tokenized, vocabulary)\n",
    "test_token_ids = texts_to_token_ids(test_tokenized, vocabulary)\n",
    "\n",
    "print('\\n'.join(' '.join(str(t) for t in sent)\n",
    "                for sent in train_token_ids[:10]))"
   ]
  },
  {
   "cell_type": "code",
   "execution_count": 17,
   "metadata": {
    "ExecuteTime": {
     "end_time": "2019-10-29T19:19:32.967989Z",
     "start_time": "2019-10-29T19:19:32.688319Z"
    }
   },
   "outputs": [
    {
     "data": {
      "image/png": "[encoded data removed]",
      "text/plain": [
       "<Figure size 432x288 with 1 Axes>"
      ]
     },
     "metadata": {
      "needs_background": "light"
     },
     "output_type": "display_data"
    }
   ],
   "source": [
    "plt.hist([len(s) for s in train_token_ids], bins=20);\n",
    "plt.title('Гистограмма длин предложений');"
   ]
  },
  {
   "cell_type": "code",
   "execution_count": 18,
   "metadata": {
    "ExecuteTime": {
     "end_time": "2019-10-29T19:19:33.001487Z",
     "start_time": "2019-10-29T19:19:32.970153Z"
    }
   },
   "outputs": [
    {
     "name": "stdout",
     "output_type": "stream",
     "text": [
      "(tensor([  1, 220,  50,   0,   0,   0,   0,   0,   0,   0,   0,   0,   0,   0,\n",
      "          0,   0,   0,   0,   0,   0]), tensor(0))\n"
     ]
    }
   ],
   "source": [
    "MAX_SENTENCE_LEN = 20\n",
    "train_dataset = PaddedSequenceDataset(train_token_ids,\n",
    "                                      np.zeros(len(train_token_ids)),\n",
    "                                      out_len=MAX_SENTENCE_LEN)\n",
    "test_dataset = PaddedSequenceDataset(test_token_ids,\n",
    "                                     np.zeros(len(test_token_ids)),\n",
    "                                     out_len=MAX_SENTENCE_LEN)\n",
    "print(train_dataset[0])"
   ]
  },
  {
   "cell_type": "markdown",
   "metadata": {},
   "source": [
    "## Алгоритм обучения - Skip Gram Negative Sampling\n",
    "\n",
    "**Skip Gram** - предсказываем соседние слова по центральному слову\n",
    "\n",
    "**Negative Sampling** - аппроксимация softmax\n",
    "\n",
    "$$ W, D \\in \\mathbb{R}^{Vocab \\times EmbSize} $$\n",
    "\n",
    "$$ \\sum_{CenterW_i} P(CtxW_{-2}, CtxW_{-1}, CtxW_{+1}, CtxW_{+2} | CenterW_i; W, D) \\rightarrow \\max_{W,D} $$\n",
    "\n",
    "$$ P(CtxW_{-2}, CtxW_{-1}, CtxW_{+1}, CtxW_{+2} | CenterW_i; W, D) = \\prod_j P(CtxW_j | CenterW_i; W, D) $$\n",
    "    \n",
    "$$ P(CtxW_j | CenterW_i; W, D) = \\frac{e^{w_i \\cdot d_j}} { \\sum_{j=1}^{|V|} e^{w_i \\cdot d_j}} = softmax \\simeq \\frac{e^{w_i \\cdot d_j^+}} { \\sum_{j=1}^{k} e^{w_i \\cdot d_j^-}}, \\quad k \\ll |V| $$"
   ]
  },
  {
   "cell_type": "code",
   "execution_count": 19,
   "metadata": {
    "ExecuteTime": {
     "end_time": "2019-10-29T19:19:33.065376Z",
     "start_time": "2019-10-29T19:19:33.003081Z"
    }
   },
   "outputs": [
    {
     "data": {
      "text/plain": [
       "tensor([[0., 1., 1., 1., 0., 0., 0., 0., 0., 0.],\n",
       "        [1., 0., 1., 1., 1., 0., 0., 0., 0., 0.],\n",
       "        [1., 1., 0., 1., 1., 1., 0., 0., 0., 0.],\n",
       "        [1., 1., 1., 0., 1., 1., 1., 0., 0., 0.],\n",
       "        [0., 1., 1., 1., 0., 1., 1., 1., 0., 0.],\n",
       "        [0., 0., 1., 1., 1., 0., 1., 1., 1., 0.],\n",
       "        [0., 0., 0., 1., 1., 1., 0., 1., 1., 1.],\n",
       "        [0., 0., 0., 0., 1., 1., 1., 0., 1., 1.],\n",
       "        [0., 0., 0., 0., 0., 1., 1., 1., 0., 1.],\n",
       "        [0., 0., 0., 0., 0., 0., 1., 1., 1., 0.]])"
      ]
     },
     "execution_count": 19,
     "metadata": {},
     "output_type": "execute_result"
    }
   ],
   "source": [
    "def make_diag_mask(size, radius):\n",
    "    \"\"\"Квадратная матрица размера Size x Size с двумя полосами ширины radius вдоль главной диагонали\"\"\"\n",
    "    idxs = torch.arange(size)\n",
    "    abs_idx_diff = (idxs.unsqueeze(0) - idxs.unsqueeze(1)).abs()\n",
    "    mask = ((abs_idx_diff <= radius) & (abs_idx_diff > 0)).float()\n",
    "    return mask\n",
    "\n",
    "make_diag_mask(10, 3)"
   ]
  },
  {
   "cell_type": "markdown",
   "metadata": {},
   "source": [
    "**Negative Sampling** работает следующим образом - мы **максимизируем сумму вероятностей двух событий**: \n",
    "\n",
    "* \"этот пример центрального слова вместе с контекстными словами взят **из тренировочной выборки**\": $$ P(y=1 | CenterW_i; CtxW_j) = sigmoid(w_i \\cdot d_j) = \\frac{1}{1+e^{-w_i \\cdot d_j}} $$\n",
    "\n",
    "$$ \\\\ $$\n",
    "\n",
    "* \"этот пример центрального слова вместе со случайми контекстными словами **выдуман** \": $$ P(y=0 | CenterW_i; CtxW_{noise}) = 1 - P(y=1 | CenterW_i;  CtxW_{noise}) = \\frac{1}{1+e^{w_i \\cdot d_{noise}}} $$\n",
    "\n",
    "$$ \\\\ $$\n",
    "\n",
    "$$ NEG(CtxW_j, CenterW_i) = log(\\frac{1}{1+e^{-w_i \\cdot d_j}}) + \\sum_{l=1}^{k}log(\\frac{1}{1+e^{w_i \\cdot d_{noise_l}}})  \\rightarrow \\max_{W,D} $$"
   ]
  },
  {
   "cell_type": "code",
   "execution_count": 20,
   "metadata": {
    "ExecuteTime": {
     "end_time": "2019-10-29T19:19:33.101379Z",
     "start_time": "2019-10-29T19:19:33.068154Z"
    }
   },
   "outputs": [],
   "source": [
    "class SkipGramNegativeSamplingTrainer(nn.Module):\n",
    "    def __init__(self, vocab_size, emb_size, sentence_len, radius=5, negative_samples_n=5):\n",
    "        super().__init__()\n",
    "        self.vocab_size = vocab_size\n",
    "        self.negative_samples_n = negative_samples_n\n",
    "\n",
    "        self.center_emb = nn.Embedding(self.vocab_size, emb_size, padding_idx=0)\n",
    "        self.center_emb.weight.data.uniform_(-1.0 / emb_size, 1.0 / emb_size)\n",
    "        self.center_emb.weight.data[0] = 0\n",
    "\n",
    "        self.context_emb = nn.Embedding(self.vocab_size, emb_size, padding_idx=0)        \n",
    "        self.context_emb.weight.data.uniform_(-1.0 / emb_size, 1.0 / emb_size)\n",
    "        self.context_emb.weight.data[0] = 0\n",
    "\n",
    "        self.positive_sim_mask = make_diag_mask(sentence_len, radius)\n",
    "    \n",
    "    def forward(self, sentences):\n",
    "        \"\"\"sentences - Batch x MaxSentLength - идентификаторы токенов\"\"\"\n",
    "        batch_size = sentences.shape[0]\n",
    "        center_embeddings = self.center_emb(sentences)  # Batch x MaxSentLength x EmbSize\n",
    "\n",
    "        # оценить сходство с настоящими соседними словами\n",
    "        positive_context_embs = self.context_emb(sentences).permute(0, 2, 1)  # Batch x EmbSize x MaxSentLength\n",
    "        positive_sims = torch.bmm(center_embeddings, positive_context_embs)  # Batch x MaxSentLength x MaxSentLength\n",
    "        positive_probs = torch.sigmoid(positive_sims)\n",
    "\n",
    "        # увеличить оценку вероятности встретить эти пары слов вместе\n",
    "        positive_mask = self.positive_sim_mask.to(positive_sims.device)\n",
    "        positive_loss = F.binary_cross_entropy(positive_probs * positive_mask,\n",
    "                                               positive_mask.expand_as(positive_probs))\n",
    "\n",
    "        # выбрать случайные \"отрицательные\" слова\n",
    "        negative_words = torch.randint(1, self.vocab_size,\n",
    "                                       size=(batch_size, self.negative_samples_n),\n",
    "                                       device=sentences.device)  # Batch x NegSamplesN\n",
    "        negative_context_embs = self.context_emb(negative_words).permute(0, 2, 1)  # Batch x EmbSize x NegSamplesN\n",
    "        negative_sims = torch.bmm(center_embeddings, negative_context_embs)  # Batch x MaxSentLength x NegSamplesN\n",
    "        \n",
    "        # уменьшить оценку вероятность встретить эти пары слов вместе\n",
    "        negative_loss = F.binary_cross_entropy_with_logits(negative_sims,\n",
    "                                                           negative_sims.new_zeros(negative_sims.shape))\n",
    "\n",
    "        return positive_loss + negative_loss\n",
    "\n",
    "\n",
    "def no_loss(pred, target):\n",
    "    \"\"\"Фиктивная функция потерь - когда модель сама считает функцию потерь\"\"\"\n",
    "    return pred"
   ]
  },
  {
   "cell_type": "markdown",
   "metadata": {},
   "source": [
    "## Обучение"
   ]
  },
  {
   "cell_type": "code",
   "execution_count": 21,
   "metadata": {
    "ExecuteTime": {
     "end_time": "2019-10-29T19:19:33.130307Z",
     "start_time": "2019-10-29T19:19:33.103036Z"
    }
   },
   "outputs": [],
   "source": [
    "init_random_seed()\n",
    "trainer = SkipGramNegativeSamplingTrainer(len(vocabulary), 100, MAX_SENTENCE_LEN,\n",
    "                                          radius=5, negative_samples_n=25)"
   ]
  },
  {
   "cell_type": "code",
   "execution_count": 22,
   "metadata": {
    "ExecuteTime": {
     "end_time": "2019-10-29T19:20:12.830221Z",
     "start_time": "2019-10-29T19:19:33.132062Z"
    },
    "scrolled": false
   },
   "outputs": [
    {
     "name": "stdout",
     "output_type": "stream",
     "text": [
      "Эпоха 0\n",
      "Эпоха: 2001 итераций, 16.71 сек\n",
      "Среднее значение функции потерь на обучении 0.8822474642612528\n",
      "Среднее значение функции потерь на валидации 0.8745497899098087\n",
      "Новая лучшая модель!\n",
      "\n",
      "Эпоха 1\n",
      "Эпоха: 2001 итераций, 19.28 сек\n",
      "Среднее значение функции потерь на обучении 0.8715900859792253\n",
      "Среднее значение функции потерь на валидации 0.8700552658189701\n",
      "Новая лучшая модель!\n",
      "\n",
      "Эпоха 2\n",
      "Эпоха: 2001 итераций, 19.75 сек\n",
      "Среднее значение функции потерь на обучении 0.8687120617955163\n",
      "Среднее значение функции потерь на валидации 0.8678936533579965\n",
      "Новая лучшая модель!\n",
      "\n",
      "Эпоха 3\n",
      "Эпоха: 2001 итераций, 24.93 сек\n",
      "Среднее значение функции потерь на обучении 0.8682674083156862\n",
      "Среднее значение функции потерь на валидации 0.868438242161709\n",
      "\n",
      "Эпоха 4\n",
      "Эпоха: 2001 итераций, 21.98 сек\n",
      "Среднее значение функции потерь на обучении 0.8675940041241796\n",
      "Среднее значение функции потерь на валидации 0.868518809223033\n",
      "Epoch     5: reducing learning rate of group 0 to 1.0000e-03.\n",
      "\n"
     ]
    }
   ],
   "source": [
    "best_val_loss, best_model = train_eval_loop(trainer,\n",
    "                                            train_dataset,\n",
    "                                            test_dataset,\n",
    "                                            no_loss,\n",
    "                                            lr=1e-2,\n",
    "                                            epoch_n=5,\n",
    "                                            batch_size=8,\n",
    "                                            device='cpu',\n",
    "                                            early_stopping_patience=10,\n",
    "                                            max_batches_per_epoch_train=2000,\n",
    "                                            max_batches_per_epoch_val=len(test_dataset),\n",
    "                                            lr_scheduler_ctor=lambda optim: torch.optim.lr_scheduler.ReduceLROnPlateau(optim, patience=1, verbose=True))"
   ]
  },
  {
   "cell_type": "code",
   "execution_count": 23,
   "metadata": {
    "ExecuteTime": {
     "end_time": "2019-10-29T19:20:12.862018Z",
     "start_time": "2019-10-29T19:20:12.832046Z"
    }
   },
   "outputs": [],
   "source": [
    "# Если Вы запускаете ноутбук на colab или kaggle, добавьте в начало пути ./stepik-dl-nlp\n",
    "torch.save(trainer.state_dict(), 'models/sgns.pth')"
   ]
  },
  {
   "cell_type": "code",
   "execution_count": 24,
   "metadata": {
    "ExecuteTime": {
     "end_time": "2019-10-29T19:20:12.888270Z",
     "start_time": "2019-10-29T19:20:12.864706Z"
    }
   },
   "outputs": [
    {
     "data": {
      "text/plain": [
       "<All keys matched successfully>"
      ]
     },
     "execution_count": 24,
     "metadata": {},
     "output_type": "execute_result"
    }
   ],
   "source": [
    "# Если Вы запускаете ноутбук на colab или kaggle, добавьте в начало пути ./stepik-dl-nlp\n",
    "trainer.load_state_dict(torch.load('models/sgns.pth'))"
   ]
  },
  {
   "cell_type": "markdown",
   "metadata": {},
   "source": [
    "## Исследуем характеристики полученных векторов"
   ]
  },
  {
   "cell_type": "code",
   "execution_count": 25,
   "metadata": {
    "ExecuteTime": {
     "end_time": "2019-10-29T19:20:12.919904Z",
     "start_time": "2019-10-29T19:20:12.890671Z"
    }
   },
   "outputs": [],
   "source": [
    "embeddings = Embeddings(trainer.center_emb.weight.detach().cpu().numpy(), vocabulary)"
   ]
  },
  {
   "cell_type": "code",
   "execution_count": 26,
   "metadata": {
    "ExecuteTime": {
     "end_time": "2019-10-29T19:20:12.942708Z",
     "start_time": "2019-10-29T19:20:12.921619Z"
    }
   },
   "outputs": [
    {
     "data": {
      "text/plain": [
       "[('chicken', 0.9999386),\n",
       " ('stock', 0.59094584),\n",
       " ('turkey', 0.5564013),\n",
       " ('thigh', 0.5411354),\n",
       " ('broth', 0.51780397),\n",
       " ('breast', 0.4903405),\n",
       " ('neck', 0.48558623),\n",
       " ('beef', 0.466993),\n",
       " ('duck', 0.45744798),\n",
       " ('cutlet', 0.45602152)]"
      ]
     },
     "execution_count": 26,
     "metadata": {},
     "output_type": "execute_result"
    }
   ],
   "source": [
    "embeddings.most_similar('chicken')"
   ]
  },
  {
   "cell_type": "code",
   "execution_count": 27,
   "metadata": {
    "ExecuteTime": {
     "end_time": "2019-10-29T19:20:12.965936Z",
     "start_time": "2019-10-29T19:20:12.944423Z"
    }
   },
   "outputs": [
    {
     "data": {
      "text/plain": [
       "[('cacao', 1.091351),\n",
       " ('cheese', 1.0290958),\n",
       " ('Roquefort', 1.0010501),\n",
       " ('fontina', 0.88097143),\n",
       " ('Grated', 0.8721447),\n",
       " ('Pecorino', 0.8693468),\n",
       " ('Romano', 0.8611749),\n",
       " ('.', 0.8450324),\n",
       " ('bratwurst', 0.8260077),\n",
       " ('tsp', 0.8248808)]"
      ]
     },
     "execution_count": 27,
     "metadata": {},
     "output_type": "execute_result"
    }
   ],
   "source": [
    "embeddings.analogy('cake', 'cacao', 'cheese')"
   ]
  },
  {
   "cell_type": "code",
   "execution_count": 40,
   "metadata": {
    "ExecuteTime": {
     "end_time": "2019-10-29T19:20:12.991060Z",
     "start_time": "2019-10-29T19:20:12.967532Z"
    }
   },
   "outputs": [
    {
     "name": "stdout",
     "output_type": "stream",
     "text": [
      "(26, 100)\n"
     ]
    }
   ],
   "source": [
    "test_words = ['salad', 'fish', 'salmon', 'sauvignon', 'beef', 'pork', 'steak', 'beer', 'cake', 'coffee', 'sausage', \n",
    "              'wine', 'zinfandel', 'trout', 'chardonnay', 'champagne', 'cacao', 'salt', 'pepper', 'sugar', 'cinnamon', \n",
    "              'chocolate', 'nuts', 'liquor', 'milk', 'cream']\n",
    "#, 'merlot'\n",
    "test_vectors = embeddings.get_vectors(*test_words)\n",
    "print(test_vectors.shape)"
   ]
  },
  {
   "cell_type": "code",
   "execution_count": 41,
   "metadata": {
    "ExecuteTime": {
     "end_time": "2019-10-29T19:20:13.318676Z",
     "start_time": "2019-10-29T19:20:12.996595Z"
    }
   },
   "outputs": [
    {
     "data": {
      "image/png": "[encoded data removed]",
      "text/plain": [
       "<Figure size 720x720 with 1 Axes>"
      ]
     },
     "metadata": {
      "needs_background": "light"
     },
     "output_type": "display_data"
    }
   ],
   "source": [
    "fig, ax = plt.subplots()\n",
    "fig.set_size_inches((10, 10))\n",
    "plot_vectors(test_vectors, test_words, how='svd', ax=ax)"
   ]
  },
  {
   "cell_type": "markdown",
   "metadata": {},
   "source": [
    "## Обучение Word2Vec с помощью Gensim"
   ]
  },
  {
   "cell_type": "code",
   "execution_count": null,
   "metadata": {
    "ExecuteTime": {
     "end_time": "2019-10-29T19:20:13.613797Z",
     "start_time": "2019-10-29T19:20:13.321353Z"
    }
   },
   "outputs": [],
   "source": [
    "import gensim"
   ]
  },
  {
   "cell_type": "code",
   "execution_count": null,
   "metadata": {
    "ExecuteTime": {
     "end_time": "2019-10-29T19:20:17.075005Z",
     "start_time": "2019-10-29T19:20:13.615729Z"
    }
   },
   "outputs": [],
   "source": [
    "word2vec = gensim.models.Word2Vec(sentences=train_tokenized, size=100,\n",
    "                                  window=5, min_count=5, workers=4,\n",
    "                                  sg=1, iter=10)"
   ]
  },
  {
   "cell_type": "code",
   "execution_count": null,
   "metadata": {
    "ExecuteTime": {
     "end_time": "2019-10-29T19:20:17.109583Z",
     "start_time": "2019-10-29T19:20:17.076599Z"
    }
   },
   "outputs": [],
   "source": [
    "word2vec.wv.most_similar('chicken')"
   ]
  },
  {
   "cell_type": "code",
   "execution_count": null,
   "metadata": {
    "ExecuteTime": {
     "end_time": "2019-10-29T19:20:17.176357Z",
     "start_time": "2019-10-29T19:20:17.112948Z"
    }
   },
   "outputs": [],
   "source": [
    "gensim_words = [w for w in test_words if w in word2vec.wv.vocab]\n",
    "gensim_vectors = np.stack([word2vec.wv[w] for w in gensim_words])"
   ]
  },
  {
   "cell_type": "code",
   "execution_count": null,
   "metadata": {
    "ExecuteTime": {
     "end_time": "2019-10-29T19:20:17.428874Z",
     "start_time": "2019-10-29T19:20:17.179311Z"
    }
   },
   "outputs": [],
   "source": [
    "fig, ax = plt.subplots()\n",
    "fig.set_size_inches((10, 10))\n",
    "plot_vectors(gensim_vectors, test_words, how='svd', ax=ax)"
   ]
  },
  {
   "cell_type": "markdown",
   "metadata": {},
   "source": [
    "## Обучение Word2Vec с помощью FastText"
   ]
  },
  {
   "cell_type": "code",
   "execution_count": null,
   "metadata": {},
   "outputs": [],
   "source": [
    "import FastText"
   ]
  },
  {
   "cell_type": "code",
   "execution_count": null,
   "metadata": {},
   "outputs": [],
   "source": [
    "word2vec = gensim.models.FastText(sentences=train_tokenized, size=100,\n",
    "                                  window=5, min_count=5, workers=4,\n",
    "                                  sg=1, iter=10). "
   ]
  },
  {
   "cell_type": "markdown",
   "metadata": {},
   "source": [
    "## Загрузка предобученного Word2Vec\n",
    "\n",
    "Источники готовых векторов:\n",
    "\n",
    "https://rusvectores.org/ru/ - для русского языка\n",
    "\n",
    "https://wikipedia2vec.github.io/wikipedia2vec/pretrained/ - много разных языков"
   ]
  },
  {
   "cell_type": "code",
   "execution_count": 9,
   "metadata": {},
   "outputs": [
    {
     "name": "stdout",
     "output_type": "stream",
     "text": [
      "Collecting gensim\n",
      "  Downloading gensim-4.0.1-cp38-cp38-win_amd64.whl (23.9 MB)\n",
      "Collecting smart-open>=1.8.1\n",
      "  Downloading smart_open-5.0.0-py3-none-any.whl (56 kB)\n",
      "Requirement already satisfied: scipy>=0.18.1 in s:\\anaconda\\lib\\site-packages (from gensim) (1.5.2)\n",
      "Requirement already satisfied: numpy>=1.11.3 in s:\\anaconda\\lib\\site-packages (from gensim) (1.19.2)\n",
      "Requirement already satisfied: Cython==0.29.21 in s:\\anaconda\\lib\\site-packages (from gensim) (0.29.21)\n",
      "Installing collected packages: smart-open, gensim\n",
      "Successfully installed gensim-4.0.1 smart-open-5.0.0\n"
     ]
    }
   ],
   "source": [
    "!pip install gensim"
   ]
  },
  {
   "cell_type": "code",
   "execution_count": 10,
   "metadata": {
    "ExecuteTime": {
     "end_time": "2019-10-29T19:20:17.460133Z",
     "start_time": "2019-10-29T19:20:17.430563Z"
    }
   },
   "outputs": [
    {
     "name": "stderr",
     "output_type": "stream",
     "text": [
      "S:\\anaconda\\lib\\site-packages\\gensim\\similarities\\__init__.py:15: UserWarning: The gensim.similarities.levenshtein submodule is disabled, because the optional Levenshtein package <https://pypi.org/project/python-Levenshtein/> is unavailable. Install Levenhstein (e.g. `pip install python-Levenshtein`) to suppress this warning.\n",
      "  warnings.warn(msg)\n"
     ]
    }
   ],
   "source": [
    "import gensim.downloader as api\n",
    "test_words = ['salad', 'fish', 'salmon', 'sauvignon', 'beef', 'pork', 'steak', 'beer', 'cake', 'coffee', 'sausage', 'wine', 'merlot', 'zinfandel', 'trout', 'chardonnay', 'champagne', 'cacao']"
   ]
  },
  {
   "cell_type": "code",
   "execution_count": 11,
   "metadata": {
    "ExecuteTime": {
     "end_time": "2019-10-29T19:20:17.980509Z",
     "start_time": "2019-10-29T19:20:17.462239Z"
    }
   },
   "outputs": [
    {
     "name": "stdout",
     "output_type": "stream",
     "text": [
      "fasttext-wiki-news-subwords-300\n",
      "conceptnet-numberbatch-17-06-300\n",
      "word2vec-ruscorpora-300\n",
      "word2vec-google-news-300\n",
      "glove-wiki-gigaword-50\n",
      "glove-wiki-gigaword-100\n",
      "glove-wiki-gigaword-200\n",
      "glove-wiki-gigaword-300\n",
      "glove-twitter-25\n",
      "glove-twitter-50\n",
      "glove-twitter-100\n",
      "glove-twitter-200\n",
      "__testing_word2vec-matrix-synopsis\n"
     ]
    }
   ],
   "source": [
    "available_models = api.info()['models'].keys()\n",
    "print('\\n'.join(available_models))"
   ]
  },
  {
   "cell_type": "code",
   "execution_count": 12,
   "metadata": {
    "ExecuteTime": {
     "end_time": "2019-10-29T19:22:12.649035Z",
     "start_time": "2019-10-29T19:20:17.984118Z"
    },
    "scrolled": false
   },
   "outputs": [
    {
     "name": "stdout",
     "output_type": "stream",
     "text": [
      "[==================================================] 100.0% 1662.8/1662.8MB downloaded\n"
     ]
    }
   ],
   "source": [
    "pretrained = api.load('word2vec-google-news-300')  # > 1.5 GB!"
   ]
  },
  {
   "cell_type": "code",
   "execution_count": 13,
   "metadata": {
    "ExecuteTime": {
     "end_time": "2019-10-29T19:22:12.651388Z",
     "start_time": "2019-10-29T19:19:29.817Z"
    }
   },
   "outputs": [
    {
     "data": {
      "text/plain": [
       "[('cheeses', 0.7788999676704407),\n",
       " ('cheddar', 0.7627597451210022),\n",
       " ('goat_cheese', 0.7297402620315552),\n",
       " ('Cheese', 0.7286962866783142),\n",
       " ('cheddar_cheese', 0.725513756275177),\n",
       " ('Cheddar_cheese', 0.6943708658218384),\n",
       " ('mozzarella', 0.6805710792541504),\n",
       " ('cheddar_cheeses', 0.6694672107696533),\n",
       " ('Camembert', 0.6623162627220154),\n",
       " ('gruyere', 0.6615148186683655)]"
      ]
     },
     "execution_count": 13,
     "metadata": {},
     "output_type": "execute_result"
    }
   ],
   "source": [
    "pretrained.most_similar('cheese')"
   ]
  },
  {
   "cell_type": "code",
   "execution_count": 14,
   "metadata": {
    "ExecuteTime": {
     "end_time": "2019-10-29T19:22:12.652649Z",
     "start_time": "2019-10-29T19:19:29.820Z"
    }
   },
   "outputs": [
    {
     "data": {
      "text/plain": [
       "[('woman', 0.7609436511993408),\n",
       " ('girl', 0.6139994263648987),\n",
       " ('teenage_girl', 0.6040961146354675),\n",
       " ('teenager', 0.5825759172439575),\n",
       " ('lady', 0.5752554535865784),\n",
       " ('boy', 0.5077577233314514),\n",
       " ('policewoman', 0.5066847205162048),\n",
       " ('schoolgirl', 0.5052095651626587),\n",
       " ('blonde', 0.48696184158325195),\n",
       " ('person', 0.48637545108795166)]"
      ]
     },
     "execution_count": 14,
     "metadata": {},
     "output_type": "execute_result"
    }
   ],
   "source": [
    "pretrained.most_similar(positive=['man', 'queen'], negative=['king'])"
   ]
  },
  {
   "cell_type": "code",
   "execution_count": 17,
   "metadata": {
    "ExecuteTime": {
     "end_time": "2019-10-29T19:22:12.653584Z",
     "start_time": "2019-10-29T19:19:29.823Z"
    }
   },
   "outputs": [],
   "source": [
    "pretrained_words = [w for w in test_words if w in pretrained.index_to_key]\n",
    "pretrained_vectors = np.stack([pretrained[w] for w in pretrained_words])"
   ]
  },
  {
   "cell_type": "code",
   "execution_count": 18,
   "metadata": {
    "ExecuteTime": {
     "end_time": "2019-10-29T19:22:12.654594Z",
     "start_time": "2019-10-29T19:19:29.828Z"
    }
   },
   "outputs": [
    {
     "data": {
      "image/png": "[encoded data removed]",
      "text/plain": [
       "<Figure size 720x720 with 1 Axes>"
      ]
     },
     "metadata": {
      "needs_background": "light"
     },
     "output_type": "display_data"
    }
   ],
   "source": [
    "fig, ax = plt.subplots()\n",
    "fig.set_size_inches((10, 10))\n",
    "plot_vectors(pretrained_vectors, test_words, how='svd', ax=ax)"
   ]
  },
  {
   "cell_type": "markdown",
   "metadata": {},
   "source": [
    "## Заключение\n",
    "\n",
    "* Реализовали Skip Gram Negative Sampling на PyTorch\n",
    "* Обучили на корпусе рецептов\n",
    "    * Сходство слов модель выучила неплохо\n",
    "    * Для аналогий мало данных\n",
    "* Обучили SGNS с помощью библиотеки Gensim\n",
    "* Загрузили веса Word2Vec, полученные с помощью большого корпуса (GoogleNews)\n",
    "    * Списки похожих слов отличаются!\n",
    "    * Аналогии работают"
   ]
  },
  {
   "cell_type": "code",
   "execution_count": null,
   "metadata": {},
   "outputs": [],
   "source": []
  }
 ],
 "metadata": {
  "kernelspec": {
   "display_name": "Python 3",
   "language": "python",
   "name": "python3"
  },
  "language_info": {
   "codemirror_mode": {
    "name": "ipython",
    "version": 3
   },
   "file_extension": ".py",
   "mimetype": "text/x-python",
   "name": "python",
   "nbconvert_exporter": "python",
   "pygments_lexer": "ipython3",
   "version": "3.8.5"
  },
  "latex_envs": {
   "LaTeX_envs_menu_present": true,
   "autoclose": false,
   "autocomplete": true,
   "bibliofile": "biblio.bib",
   "cite_by": "apalike",
   "current_citInitial": 1,
   "eqLabelWithNumbers": true,
   "eqNumInitial": 1,
   "hotkeys": {
    "equation": "Ctrl-E",
    "itemize": "Ctrl-I"
   },
   "labels_anchors": false,
   "latex_user_defs": false,
   "report_style_numbering": false,
   "user_envs_cfg": false
  },
  "toc": {
   "base_numbering": 1,
   "nav_menu": {},
   "number_sections": true,
   "sideBar": true,
   "skip_h1_title": false,
   "title_cell": "Table of Contents",
   "title_sidebar": "Contents",
   "toc_cell": false,
   "toc_position": {},
   "toc_section_display": true,
   "toc_window_display": false
  }
 },
 "nbformat": 4,
 "nbformat_minor": 2
}
