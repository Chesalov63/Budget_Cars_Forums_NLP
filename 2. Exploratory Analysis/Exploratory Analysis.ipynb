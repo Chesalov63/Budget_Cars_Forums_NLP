{
 "cells": [
  {
   "cell_type": "code",
   "execution_count": 54,
   "metadata": {},
   "outputs": [
    {
     "name": "stderr",
     "output_type": "stream",
     "text": [
      "D:\\Anaconda3\\lib\\site-packages\\tqdm\\std.py:697: FutureWarning: The Panel class is removed from pandas. Accessing it from the top-level namespace will also be removed in the next version\n",
      "  from pandas import Panel\n"
     ]
    }
   ],
   "source": [
    "import pandas as pd\n",
    "from tqdm.notebook import tqdm\n",
    "tqdm.pandas()"
   ]
  },
  {
   "cell_type": "code",
   "execution_count": 33,
   "metadata": {},
   "outputs": [
    {
     "data": {
      "text/html": [
       "<div>\n",
       "<style scoped>\n",
       "    .dataframe tbody tr th:only-of-type {\n",
       "        vertical-align: middle;\n",
       "    }\n",
       "\n",
       "    .dataframe tbody tr th {\n",
       "        vertical-align: top;\n",
       "    }\n",
       "\n",
       "    .dataframe thead th {\n",
       "        text-align: right;\n",
       "    }\n",
       "</style>\n",
       "<table border=\"1\" class=\"dataframe\">\n",
       "  <thead>\n",
       "    <tr style=\"text-align: right;\">\n",
       "      <th></th>\n",
       "      <th>Code</th>\n",
       "      <th>Folder</th>\n",
       "      <th>Theme</th>\n",
       "      <th>Date</th>\n",
       "      <th>Time</th>\n",
       "      <th>Author</th>\n",
       "      <th>Message</th>\n",
       "    </tr>\n",
       "  </thead>\n",
       "  <tbody>\n",
       "    <tr>\n",
       "      <th>0</th>\n",
       "      <td>3</td>\n",
       "      <td>Ходовая</td>\n",
       "      <td>FAQ Ходовая и подвеска</td>\n",
       "      <td>29.09.2016</td>\n",
       "      <td>18:43</td>\n",
       "      <td>Oleg08</td>\n",
       "      <td>ПОЛИУРЕТАН 2501591 - Втулка стабилизатора пер...</td>\n",
       "    </tr>\n",
       "    <tr>\n",
       "      <th>1</th>\n",
       "      <td>3</td>\n",
       "      <td>Ходовая</td>\n",
       "      <td>FAQ Ходовая и подвеска</td>\n",
       "      <td>13.10.2016</td>\n",
       "      <td>23:26</td>\n",
       "      <td>bokareff</td>\n",
       "      <td></td>\n",
       "    </tr>\n",
       "    <tr>\n",
       "      <th>2</th>\n",
       "      <td>3</td>\n",
       "      <td>Ходовая</td>\n",
       "      <td>FAQ Ходовая и подвеска</td>\n",
       "      <td>17.10.2016</td>\n",
       "      <td>16:48</td>\n",
       "      <td>bokareff</td>\n",
       "      <td>Документация В одном архиве: https://cloud.ma...</td>\n",
       "    </tr>\n",
       "    <tr>\n",
       "      <th>3</th>\n",
       "      <td>3</td>\n",
       "      <td>Ходовая</td>\n",
       "      <td>FAQ Ходовая и подвеска</td>\n",
       "      <td>08.06.2019</td>\n",
       "      <td>22:23</td>\n",
       "      <td>chand</td>\n",
       "      <td>Развал у Весты выставляется?</td>\n",
       "    </tr>\n",
       "    <tr>\n",
       "      <th>4</th>\n",
       "      <td>3</td>\n",
       "      <td>Ходовая</td>\n",
       "      <td>FAQ Ходовая и подвеска</td>\n",
       "      <td>09.06.2019</td>\n",
       "      <td>08:13</td>\n",
       "      <td>katran</td>\n",
       "      <td>Нет не выставляется.</td>\n",
       "    </tr>\n",
       "    <tr>\n",
       "      <th>...</th>\n",
       "      <td>...</td>\n",
       "      <td>...</td>\n",
       "      <td>...</td>\n",
       "      <td>...</td>\n",
       "      <td>...</td>\n",
       "      <td>...</td>\n",
       "      <td>...</td>\n",
       "    </tr>\n",
       "    <tr>\n",
       "      <th>15840</th>\n",
       "      <td>3</td>\n",
       "      <td>Ходовая</td>\n",
       "      <td>Докатка</td>\n",
       "      <td>06.05.2016</td>\n",
       "      <td>07:10</td>\n",
       "      <td>Ladavod</td>\n",
       "      <td>У нас колеса реношные стоят, в ту сторону и с...</td>\n",
       "    </tr>\n",
       "    <tr>\n",
       "      <th>15841</th>\n",
       "      <td>3</td>\n",
       "      <td>Ходовая</td>\n",
       "      <td>Докатка</td>\n",
       "      <td>06.05.2016</td>\n",
       "      <td>11:16</td>\n",
       "      <td>becool</td>\n",
       "      <td>Так вроде мелькала инфа, что с недавних пор н...</td>\n",
       "    </tr>\n",
       "    <tr>\n",
       "      <th>15842</th>\n",
       "      <td>3</td>\n",
       "      <td>Ходовая</td>\n",
       "      <td>Докатка</td>\n",
       "      <td>06.05.2016</td>\n",
       "      <td>19:09</td>\n",
       "      <td>Ризван</td>\n",
       "      <td>Да это наверное обычный штампованный диск, та...</td>\n",
       "    </tr>\n",
       "    <tr>\n",
       "      <th>15843</th>\n",
       "      <td>3</td>\n",
       "      <td>Ходовая</td>\n",
       "      <td>Докатка</td>\n",
       "      <td>06.05.2016</td>\n",
       "      <td>20:30</td>\n",
       "      <td>авторевизор</td>\n",
       "      <td>Вот на Драйве ставили</td>\n",
       "    </tr>\n",
       "    <tr>\n",
       "      <th>15844</th>\n",
       "      <td>3</td>\n",
       "      <td>Ходовая</td>\n",
       "      <td>Докатка</td>\n",
       "      <td>07.05.2016</td>\n",
       "      <td>13:14</td>\n",
       "      <td>БВМ</td>\n",
       "      <td>У меня на ноуте такая же разболтовка, докатка...</td>\n",
       "    </tr>\n",
       "  </tbody>\n",
       "</table>\n",
       "<p>15845 rows × 7 columns</p>\n",
       "</div>"
      ],
      "text/plain": [
       "       Code   Folder                   Theme        Date    Time       Author  \\\n",
       "0         3  Ходовая  FAQ Ходовая и подвеска  29.09.2016   18:43       Oleg08   \n",
       "1         3  Ходовая  FAQ Ходовая и подвеска  13.10.2016   23:26     bokareff   \n",
       "2         3  Ходовая  FAQ Ходовая и подвеска  17.10.2016   16:48     bokareff   \n",
       "3         3  Ходовая  FAQ Ходовая и подвеска  08.06.2019   22:23        chand   \n",
       "4         3  Ходовая  FAQ Ходовая и подвеска  09.06.2019   08:13       katran   \n",
       "...     ...      ...                     ...         ...     ...          ...   \n",
       "15840     3  Ходовая                 Докатка  06.05.2016   07:10      Ladavod   \n",
       "15841     3  Ходовая                 Докатка  06.05.2016   11:16       becool   \n",
       "15842     3  Ходовая                 Докатка  06.05.2016   19:09       Ризван   \n",
       "15843     3  Ходовая                 Докатка  06.05.2016   20:30  авторевизор   \n",
       "15844     3  Ходовая                 Докатка  07.05.2016   13:14          БВМ   \n",
       "\n",
       "                                                 Message  \n",
       "0       ПОЛИУРЕТАН 2501591 - Втулка стабилизатора пер...  \n",
       "1                                                         \n",
       "2       Документация В одном архиве: https://cloud.ma...  \n",
       "3                          Развал у Весты выставляется?   \n",
       "4                                  Нет не выставляется.   \n",
       "...                                                  ...  \n",
       "15840   У нас колеса реношные стоят, в ту сторону и с...  \n",
       "15841   Так вроде мелькала инфа, что с недавних пор н...  \n",
       "15842   Да это наверное обычный штампованный диск, та...  \n",
       "15843                             Вот на Драйве ставили   \n",
       "15844   У меня на ноуте такая же разболтовка, докатка...  \n",
       "\n",
       "[15845 rows x 7 columns]"
      ]
     },
     "execution_count": 33,
     "metadata": {},
     "output_type": "execute_result"
    }
   ],
   "source": [
    "VestaExamples = pd.read_csv('../1. Data Extraction/LADA VESTA/LADA VESTA_3_Ходовая.csv', quotechar=\"'\")\n",
    "VestaExamples"
   ]
  },
  {
   "cell_type": "code",
   "execution_count": 57,
   "metadata": {},
   "outputs": [
    {
     "data": {
      "text/html": [
       "<div>\n",
       "<style scoped>\n",
       "    .dataframe tbody tr th:only-of-type {\n",
       "        vertical-align: middle;\n",
       "    }\n",
       "\n",
       "    .dataframe tbody tr th {\n",
       "        vertical-align: top;\n",
       "    }\n",
       "\n",
       "    .dataframe thead th {\n",
       "        text-align: right;\n",
       "    }\n",
       "</style>\n",
       "<table border=\"1\" class=\"dataframe\">\n",
       "  <thead>\n",
       "    <tr style=\"text-align: right;\">\n",
       "      <th></th>\n",
       "      <th></th>\n",
       "      <th>Code</th>\n",
       "      <th>Folder</th>\n",
       "      <th>Theme</th>\n",
       "      <th>Message</th>\n",
       "    </tr>\n",
       "  </thead>\n",
       "  <tbody>\n",
       "    <tr>\n",
       "      <th rowspan=\"11\" valign=\"top\">3</th>\n",
       "      <th>Ходовая</th>\n",
       "      <td>Дребезг (подобно банке с болтами) спереди спра...</td>\n",
       "      <td>07.11.2018 18:11</td>\n",
       "      <td>King</td>\n",
       "      <td>Приветствую ! Создал новую тему, так как проб...</td>\n",
       "    </tr>\n",
       "    <tr>\n",
       "      <th>Ходовая</th>\n",
       "      <td>Дребезг (подобно банке с болтами) спереди спра...</td>\n",
       "      <td>07.11.2018 18:14</td>\n",
       "      <td>ссе</td>\n",
       "      <td>Как версия: ежели стоит защита, то поищите по...</td>\n",
       "    </tr>\n",
       "    <tr>\n",
       "      <th>Ходовая</th>\n",
       "      <td>Дребезг (подобно банке с болтами) спереди спра...</td>\n",
       "      <td>07.11.2018 18:22</td>\n",
       "      <td>King</td>\n",
       "      <td>В том то и проблема, что все эти элементарные...</td>\n",
       "    </tr>\n",
       "    <tr>\n",
       "      <th>Ходовая</th>\n",
       "      <td>Дребезг (подобно банке с болтами) спереди спра...</td>\n",
       "      <td>07.11.2018 18:22</td>\n",
       "      <td>Мав</td>\n",
       "      <td>@King, думаю вариант не Ваш, но все же скажу....</td>\n",
       "    </tr>\n",
       "    <tr>\n",
       "      <th>Ходовая</th>\n",
       "      <td>Дребезг (подобно банке с болтами) спереди спра...</td>\n",
       "      <td>07.11.2018 18:26</td>\n",
       "      <td>ссе</td>\n",
       "      <td>Ну тогда ищите. Но не так, как в том фильме: ...</td>\n",
       "    </tr>\n",
       "    <tr>\n",
       "      <th>...</th>\n",
       "      <td>...</td>\n",
       "      <td>...</td>\n",
       "      <td>...</td>\n",
       "      <td>...</td>\n",
       "    </tr>\n",
       "    <tr>\n",
       "      <th>Ходовая</th>\n",
       "      <td>Щелчки в руле</td>\n",
       "      <td>10.01.2018 20:51</td>\n",
       "      <td>аdmin</td>\n",
       "      <td>Видео выложите на ютуб, сделайте публичным и ...</td>\n",
       "    </tr>\n",
       "    <tr>\n",
       "      <th>Ходовая</th>\n",
       "      <td>Щелчки в руле</td>\n",
       "      <td>10.01.2018 21:05</td>\n",
       "      <td>kolvich</td>\n",
       "      <td>Посмотрите нет ли наклейки между рулем и кожу...</td>\n",
       "    </tr>\n",
       "    <tr>\n",
       "      <th>Ходовая</th>\n",
       "      <td>Щелчки в руле</td>\n",
       "      <td>10.01.2018 23:54</td>\n",
       "      <td>Anton90</td>\n",
       "      <td>Вот видео Часть 1: [youtu.be/dyP8VIVAcFQ недо...</td>\n",
       "    </tr>\n",
       "    <tr>\n",
       "      <th>Ходовая</th>\n",
       "      <td>Щелчки в руле</td>\n",
       "      <td>10.01.2018 23:57</td>\n",
       "      <td>Anton90</td>\n",
       "      <td>Видео часть 2:</td>\n",
       "    </tr>\n",
       "    <tr>\n",
       "      <th>Ходовая</th>\n",
       "      <td>Щелчки в руле</td>\n",
       "      <td>11.01.2018 01:54</td>\n",
       "      <td>Anton90</td>\n",
       "      <td>kolvich, хорошо, обязательно посмотрю, спасиб...</td>\n",
       "    </tr>\n",
       "  </tbody>\n",
       "</table>\n",
       "<p>1450 rows × 4 columns</p>\n",
       "</div>"
      ],
      "text/plain": [
       "                                                        Code  \\\n",
       "3 Ходовая  Дребезг (подобно банке с болтами) спереди спра...   \n",
       "  Ходовая  Дребезг (подобно банке с болтами) спереди спра...   \n",
       "  Ходовая  Дребезг (подобно банке с болтами) спереди спра...   \n",
       "  Ходовая  Дребезг (подобно банке с болтами) спереди спра...   \n",
       "  Ходовая  Дребезг (подобно банке с болтами) спереди спра...   \n",
       "...                                                      ...   \n",
       "  Ходовая                                      Щелчки в руле   \n",
       "  Ходовая                                      Щелчки в руле   \n",
       "  Ходовая                                      Щелчки в руле   \n",
       "  Ходовая                                      Щелчки в руле   \n",
       "  Ходовая                                      Щелчки в руле   \n",
       "\n",
       "                     Folder    Theme  \\\n",
       "3 Ходовая  07.11.2018 18:11     King   \n",
       "  Ходовая  07.11.2018 18:14      ссе   \n",
       "  Ходовая  07.11.2018 18:22     King   \n",
       "  Ходовая  07.11.2018 18:22      Мав   \n",
       "  Ходовая  07.11.2018 18:26      ссе   \n",
       "...                     ...      ...   \n",
       "  Ходовая  10.01.2018 20:51    аdmin   \n",
       "  Ходовая  10.01.2018 21:05  kolvich   \n",
       "  Ходовая  10.01.2018 23:54  Anton90   \n",
       "  Ходовая  10.01.2018 23:57  Anton90   \n",
       "  Ходовая  11.01.2018 01:54  Anton90   \n",
       "\n",
       "                                                     Message  \n",
       "3 Ходовая   Приветствую ! Создал новую тему, так как проб...  \n",
       "  Ходовая   Как версия: ежели стоит защита, то поищите по...  \n",
       "  Ходовая   В том то и проблема, что все эти элементарные...  \n",
       "  Ходовая   @King, думаю вариант не Ваш, но все же скажу....  \n",
       "  Ходовая   Ну тогда ищите. Но не так, как в том фильме: ...  \n",
       "...                                                      ...  \n",
       "  Ходовая   Видео выложите на ютуб, сделайте публичным и ...  \n",
       "  Ходовая   Посмотрите нет ли наклейки между рулем и кожу...  \n",
       "  Ходовая   Вот видео Часть 1: [youtu.be/dyP8VIVAcFQ недо...  \n",
       "  Ходовая                                    Видео часть 2:   \n",
       "  Ходовая   kolvich, хорошо, обязательно посмотрю, спасиб...  \n",
       "\n",
       "[1450 rows x 4 columns]"
      ]
     },
     "execution_count": 57,
     "metadata": {},
     "output_type": "execute_result"
    }
   ],
   "source": [
    "RioExamples = pd.read_csv('../1. Data Extraction/KIA RIO/KIA RIO_3_Ходовая.csv', quotechar=\"'\")\n",
    "RioExamples"
   ]
  },
  {
   "cell_type": "code",
   "execution_count": 58,
   "metadata": {},
   "outputs": [
    {
     "data": {
      "text/plain": [
       "'приветствовать создавать новый тема проблема очень напрягать городок это понимать никто мочь очень напрягать отчетливо слышный посторонний звук спереди справа проезд неровность залатать асфальт съезд лежачий полицейский ... ),  звук похожий дребезг стук металлический банка болт где-то запрятывать точно понимать откуда звук подвеска какой-либо наружный элемент капот ... подкидывать неровность возвращать обратно банка болт начинать прослушиваться отчетливо это первый тысяча км'"
      ]
     },
     "execution_count": 58,
     "metadata": {},
     "output_type": "execute_result"
    }
   ],
   "source": [
    "import nltk\n",
    "from nltk.corpus import stopwords\n",
    "from pymystem3 import Mystem\n",
    "from string import punctuation\n",
    "\n",
    "mystem = Mystem()\n",
    "russian_stopwords = stopwords.words(\"russian\")\n",
    "\n",
    "def preprocess_text(text):\n",
    "    tokens = mystem.lemmatize(text.lower())\n",
    "    tokens = [token for token in tokens if token not in russian_stopwords \\\n",
    "         and token != \" \" \\\n",
    "         and token.strip() not in punctuation]\n",
    "    \n",
    "    text = \" \".join(tokens)\n",
    "    \n",
    "    return text\n",
    "\n",
    "#применение:\n",
    "preprocess_text(RioExamples.iloc[0].Message)"
   ]
  },
  {
   "cell_type": "code",
   "execution_count": 59,
   "metadata": {},
   "outputs": [],
   "source": [
    "from tqdm.notebook import tqdm\n",
    "def tokenize_corpus(texts, tokenizer=preprocess_text, **tokenizer_kwargs):\n",
    "    return [preprocess_text(text, **tokenizer_kwargs) for text in tqdm(texts)]"
   ]
  },
  {
   "cell_type": "code",
   "execution_count": 37,
   "metadata": {},
   "outputs": [
    {
     "data": {
      "application/vnd.jupyter.widget-view+json": {
       "model_id": "c36040c44dc44f219ffc95167f909206",
       "version_major": 2,
       "version_minor": 0
      },
      "text/plain": [
       "HBox(children=(HTML(value=''), FloatProgress(value=0.0, max=1450.0), HTML(value='')))"
      ]
     },
     "metadata": {},
     "output_type": "display_data"
    },
    {
     "name": "stdout",
     "output_type": "stream",
     "text": [
      "\n",
      "\n",
      "\n"
     ]
    }
   ],
   "source": [
    "messages_tokenized = tokenize_corpus(RioExamples.Message)"
   ]
  },
  {
   "cell_type": "code",
   "execution_count": 40,
   "metadata": {},
   "outputs": [
    {
     "data": {
      "text/plain": [
       "['приветствовать создавать новый тема проблема очень напрягать городок это понимать никто мочь очень напрягать отчетливо слышный посторонний звук спереди справа проезд неровность залатать асфальт съезд лежачий полицейский ... ),  звук похожий дребезг стук металлический банка болт где-то запрятывать точно понимать откуда звук подвеска какой-либо наружный элемент капот ... подкидывать неровность возвращать обратно банка болт начинать прослушиваться отчетливо это первый тысяча км',\n",
       " 'версия ежели стоять защита поискать камешек скоро гаечка болтик стать неравный борьба стук грюки открывать капот потрогать кочерга \"( упор капот болтаться самый звук наматывать изолента поправлять накладка тип трубочка знать правильно называться район крепление упор капот успех отписываться',\n",
       " 'проблема весь элементарный вещь проверять ничто являться причина ...',\n",
       " 'king думать вариант ваш сказать когда-то начинать ездить киа рио сталкиваться подобный проблема день мочь понимать откуда побрякивание оказываться очки очечник греметь звук идти откуда угодно очечник',\n",
       " 'искать фильм : \" пилить шура пилить успех отписываться греметь',\n",
       " 'благодарить предположение ... звук явно салон вообще знать думать ... реально напрягать лето 0 механик поехать кататься звук проявляться кстати жара немного исчезать видимо играть роль свойство любой вещество расширяться действие тепло ),  говорить порядок братан ехать домой',\n",
       " 'деньги звук откуда подвеска тормоз салон',\n",
       " 'тоись весь продавать новый машина салон весь дребезжать месть обиженный менеджер лишний оглашать весь список проверять вариант повторяться пример т колодка проверять',\n",
       " 'хреновый городок видимо никто рученка авто залезать хотеть ток думать понимающий вид',\n",
       " 'тормозной колодка совершенно новый машина ))  новый суппорт вроде являться источник дребезг ... проверять путем придерживание педаль тормоз неровность равный дребезг звук салон точно точно понимать подвеска это ... либо что-то подкапотный пространство мочь ... мочь стоять защита металлический поверх пластиковый заводской думать ... снимать оба ездить равный самый']"
      ]
     },
     "execution_count": 40,
     "metadata": {},
     "output_type": "execute_result"
    }
   ],
   "source": [
    "messages_tokenized[:10]"
   ]
  },
  {
   "cell_type": "code",
   "execution_count": null,
   "metadata": {},
   "outputs": [],
   "source": [
    "to_csv()?"
   ]
  },
  {
   "cell_type": "code",
   "execution_count": 44,
   "metadata": {},
   "outputs": [],
   "source": [
    "VestaExamples['Message_Lemmatized'] = VestaExamples.Message.apply(preprocess_text)"
   ]
  },
  {
   "cell_type": "code",
   "execution_count": 74,
   "metadata": {},
   "outputs": [
    {
     "data": {
      "text/html": [
       "<div>\n",
       "<style scoped>\n",
       "    .dataframe tbody tr th:only-of-type {\n",
       "        vertical-align: middle;\n",
       "    }\n",
       "\n",
       "    .dataframe tbody tr th {\n",
       "        vertical-align: top;\n",
       "    }\n",
       "\n",
       "    .dataframe thead th {\n",
       "        text-align: right;\n",
       "    }\n",
       "</style>\n",
       "<table border=\"1\" class=\"dataframe\">\n",
       "  <thead>\n",
       "    <tr style=\"text-align: right;\">\n",
       "      <th></th>\n",
       "      <th>Code</th>\n",
       "      <th>Folder</th>\n",
       "      <th>Theme</th>\n",
       "      <th>Date</th>\n",
       "      <th>Time</th>\n",
       "      <th>Author</th>\n",
       "      <th>Message</th>\n",
       "    </tr>\n",
       "  </thead>\n",
       "  <tbody>\n",
       "    <tr>\n",
       "      <th>0</th>\n",
       "      <td>3</td>\n",
       "      <td>Ходовая</td>\n",
       "      <td>FAQ Ходовая и подвеска</td>\n",
       "      <td>29.09.2016</td>\n",
       "      <td>18:43</td>\n",
       "      <td>Oleg08</td>\n",
       "      <td>полиуретан 2501591 втулка стабилизатор передня...</td>\n",
       "    </tr>\n",
       "    <tr>\n",
       "      <th>1</th>\n",
       "      <td>3</td>\n",
       "      <td>Ходовая</td>\n",
       "      <td>FAQ Ходовая и подвеска</td>\n",
       "      <td>13.10.2016</td>\n",
       "      <td>23:26</td>\n",
       "      <td>bokareff</td>\n",
       "      <td></td>\n",
       "    </tr>\n",
       "    <tr>\n",
       "      <th>2</th>\n",
       "      <td>3</td>\n",
       "      <td>Ходовая</td>\n",
       "      <td>FAQ Ходовая и подвеска</td>\n",
       "      <td>17.10.2016</td>\n",
       "      <td>16:48</td>\n",
       "      <td>bokareff</td>\n",
       "      <td>документация архив https :// cloud mail ru pub...</td>\n",
       "    </tr>\n",
       "    <tr>\n",
       "      <th>3</th>\n",
       "      <td>3</td>\n",
       "      <td>Ходовая</td>\n",
       "      <td>FAQ Ходовая и подвеска</td>\n",
       "      <td>08.06.2019</td>\n",
       "      <td>22:23</td>\n",
       "      <td>chand</td>\n",
       "      <td>развал вест выставляться</td>\n",
       "    </tr>\n",
       "    <tr>\n",
       "      <th>4</th>\n",
       "      <td>3</td>\n",
       "      <td>Ходовая</td>\n",
       "      <td>FAQ Ходовая и подвеска</td>\n",
       "      <td>09.06.2019</td>\n",
       "      <td>08:13</td>\n",
       "      <td>katran</td>\n",
       "      <td>выставляться</td>\n",
       "    </tr>\n",
       "  </tbody>\n",
       "</table>\n",
       "</div>"
      ],
      "text/plain": [
       "   Code   Folder                   Theme        Date    Time    Author  \\\n",
       "0     3  Ходовая  FAQ Ходовая и подвеска  29.09.2016   18:43    Oleg08   \n",
       "1     3  Ходовая  FAQ Ходовая и подвеска  13.10.2016   23:26  bokareff   \n",
       "2     3  Ходовая  FAQ Ходовая и подвеска  17.10.2016   16:48  bokareff   \n",
       "3     3  Ходовая  FAQ Ходовая и подвеска  08.06.2019   22:23     chand   \n",
       "4     3  Ходовая  FAQ Ходовая и подвеска  09.06.2019   08:13    katran   \n",
       "\n",
       "                                             Message  \n",
       "0  полиуретан 2501591 втулка стабилизатор передня...  \n",
       "1                                                     \n",
       "2  документация архив https :// cloud mail ru pub...  \n",
       "3                           развал вест выставляться  \n",
       "4                                       выставляться  "
      ]
     },
     "execution_count": 74,
     "metadata": {},
     "output_type": "execute_result"
    }
   ],
   "source": [
    "VestaExamples.head()"
   ]
  },
  {
   "cell_type": "code",
   "execution_count": 60,
   "metadata": {},
   "outputs": [
    {
     "data": {
      "application/vnd.jupyter.widget-view+json": {
       "model_id": "0466027708a54d1dbc43d5daf571666b",
       "version_major": 2,
       "version_minor": 0
      },
      "text/plain": [
       "HBox(children=(HTML(value=''), FloatProgress(value=0.0, max=1450.0), HTML(value='')))"
      ]
     },
     "metadata": {},
     "output_type": "display_data"
    },
    {
     "name": "stdout",
     "output_type": "stream",
     "text": [
      "\n"
     ]
    }
   ],
   "source": [
    "RioExamples['Message_Lemmatized'] = RioExamples.Message.progress_apply(preprocess_text)"
   ]
  },
  {
   "cell_type": "code",
   "execution_count": 73,
   "metadata": {},
   "outputs": [
    {
     "data": {
      "text/html": [
       "<div>\n",
       "<style scoped>\n",
       "    .dataframe tbody tr th:only-of-type {\n",
       "        vertical-align: middle;\n",
       "    }\n",
       "\n",
       "    .dataframe tbody tr th {\n",
       "        vertical-align: top;\n",
       "    }\n",
       "\n",
       "    .dataframe thead th {\n",
       "        text-align: right;\n",
       "    }\n",
       "</style>\n",
       "<table border=\"1\" class=\"dataframe\">\n",
       "  <thead>\n",
       "    <tr style=\"text-align: right;\">\n",
       "      <th></th>\n",
       "      <th></th>\n",
       "      <th>Code</th>\n",
       "      <th>Folder</th>\n",
       "      <th>Theme</th>\n",
       "      <th>Message</th>\n",
       "    </tr>\n",
       "  </thead>\n",
       "  <tbody>\n",
       "    <tr>\n",
       "      <th rowspan=\"5\" valign=\"top\">3</th>\n",
       "      <th>Ходовая</th>\n",
       "      <td>Дребезг (подобно банке с болтами) спереди спра...</td>\n",
       "      <td>07.11.2018 18:11</td>\n",
       "      <td>King</td>\n",
       "      <td>приветствовать создавать новый тема проблема о...</td>\n",
       "    </tr>\n",
       "    <tr>\n",
       "      <th>Ходовая</th>\n",
       "      <td>Дребезг (подобно банке с болтами) спереди спра...</td>\n",
       "      <td>07.11.2018 18:14</td>\n",
       "      <td>ссе</td>\n",
       "      <td>версия ежели стоять защита поискать камешек ск...</td>\n",
       "    </tr>\n",
       "    <tr>\n",
       "      <th>Ходовая</th>\n",
       "      <td>Дребезг (подобно банке с болтами) спереди спра...</td>\n",
       "      <td>07.11.2018 18:22</td>\n",
       "      <td>King</td>\n",
       "      <td>проблема весь элементарный вещь проверять ничт...</td>\n",
       "    </tr>\n",
       "    <tr>\n",
       "      <th>Ходовая</th>\n",
       "      <td>Дребезг (подобно банке с болтами) спереди спра...</td>\n",
       "      <td>07.11.2018 18:22</td>\n",
       "      <td>Мав</td>\n",
       "      <td>king думать вариант ваш сказать когда-то начин...</td>\n",
       "    </tr>\n",
       "    <tr>\n",
       "      <th>Ходовая</th>\n",
       "      <td>Дребезг (подобно банке с болтами) спереди спра...</td>\n",
       "      <td>07.11.2018 18:26</td>\n",
       "      <td>ссе</td>\n",
       "      <td>искать фильм : \" пилить шура пилить успех отпи...</td>\n",
       "    </tr>\n",
       "  </tbody>\n",
       "</table>\n",
       "</div>"
      ],
      "text/plain": [
       "                                                        Code  \\\n",
       "3 Ходовая  Дребезг (подобно банке с болтами) спереди спра...   \n",
       "  Ходовая  Дребезг (подобно банке с болтами) спереди спра...   \n",
       "  Ходовая  Дребезг (подобно банке с болтами) спереди спра...   \n",
       "  Ходовая  Дребезг (подобно банке с болтами) спереди спра...   \n",
       "  Ходовая  Дребезг (подобно банке с болтами) спереди спра...   \n",
       "\n",
       "                     Folder Theme  \\\n",
       "3 Ходовая  07.11.2018 18:11  King   \n",
       "  Ходовая  07.11.2018 18:14   ссе   \n",
       "  Ходовая  07.11.2018 18:22  King   \n",
       "  Ходовая  07.11.2018 18:22   Мав   \n",
       "  Ходовая  07.11.2018 18:26   ссе   \n",
       "\n",
       "                                                     Message  \n",
       "3 Ходовая  приветствовать создавать новый тема проблема о...  \n",
       "  Ходовая  версия ежели стоять защита поискать камешек ск...  \n",
       "  Ходовая  проблема весь элементарный вещь проверять ничт...  \n",
       "  Ходовая  king думать вариант ваш сказать когда-то начин...  \n",
       "  Ходовая  искать фильм : \" пилить шура пилить успех отпи...  "
      ]
     },
     "execution_count": 73,
     "metadata": {},
     "output_type": "execute_result"
    }
   ],
   "source": [
    "RioExamples.head()"
   ]
  },
  {
   "cell_type": "code",
   "execution_count": 69,
   "metadata": {},
   "outputs": [],
   "source": [
    "VestaExamples = VestaExamples.drop(['Message'], axis=1)\n",
    "RioExamples = RioExamples.drop(['Message'], axis=1)"
   ]
  },
  {
   "cell_type": "code",
   "execution_count": 72,
   "metadata": {},
   "outputs": [],
   "source": [
    "VestaExamples = VestaExamples.rename(columns = {'Message_Lemmatized': 'Message'})\n",
    "RioExamples = RioExamples.rename(columns = {'Message_Lemmatized': 'Message'})"
   ]
  },
  {
   "cell_type": "code",
   "execution_count": 75,
   "metadata": {},
   "outputs": [],
   "source": [
    "VestaExamples.to_csv('Vesta_lemmatization.csv')"
   ]
  },
  {
   "cell_type": "code",
   "execution_count": 76,
   "metadata": {},
   "outputs": [],
   "source": [
    "RioExamples.to_csv('Rio_lemmatization.csv')"
   ]
  },
  {
   "cell_type": "code",
   "execution_count": null,
   "metadata": {},
   "outputs": [],
   "source": []
  }
 ],
 "metadata": {
  "kernelspec": {
   "display_name": "Python 3",
   "language": "python",
   "name": "python3"
  },
  "language_info": {
   "codemirror_mode": {
    "name": "ipython",
    "version": 3
   },
   "file_extension": ".py",
   "mimetype": "text/x-python",
   "name": "python",
   "nbconvert_exporter": "python",
   "pygments_lexer": "ipython3",
   "version": "3.8.5"
  }
 },
 "nbformat": 4,
 "nbformat_minor": 4
}
